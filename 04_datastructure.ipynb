{
 "cells": [
  {
   "cell_type": "code",
   "execution_count": 1,
   "id": "9e2d5923-9f3f-43e2-af13-e775ba0a320f",
   "metadata": {},
   "outputs": [
    {
     "name": "stdout",
     "output_type": "stream",
     "text": [
      "hello\n"
     ]
    }
   ],
   "source": [
    "print('hello')"
   ]
  },
  {
   "cell_type": "code",
   "execution_count": 4,
   "id": "5a3ceb70-c8db-47db-930c-773e98f63dd3",
   "metadata": {},
   "outputs": [
    {
     "data": {
      "text/plain": [
       "'일이삼'"
      ]
     },
     "execution_count": 4,
     "metadata": {},
     "output_type": "execute_result"
    }
   ],
   "source": [
    "''.join(['일', '이', '삼'])"
   ]
  },
  {
   "cell_type": "code",
   "execution_count": 8,
   "id": "5e943646-58c4-4131-933b-8c64a2b1f92c",
   "metadata": {},
   "outputs": [
    {
     "data": {
      "text/plain": [
       "['__abs__',\n",
       " '__add__',\n",
       " '__and__',\n",
       " '__bool__',\n",
       " '__ceil__',\n",
       " '__class__',\n",
       " '__delattr__',\n",
       " '__dir__',\n",
       " '__divmod__',\n",
       " '__doc__',\n",
       " '__eq__',\n",
       " '__float__',\n",
       " '__floor__',\n",
       " '__floordiv__',\n",
       " '__format__',\n",
       " '__ge__',\n",
       " '__getattribute__',\n",
       " '__getnewargs__',\n",
       " '__getstate__',\n",
       " '__gt__',\n",
       " '__hash__',\n",
       " '__index__',\n",
       " '__init__',\n",
       " '__init_subclass__',\n",
       " '__int__',\n",
       " '__invert__',\n",
       " '__le__',\n",
       " '__lshift__',\n",
       " '__lt__',\n",
       " '__mod__',\n",
       " '__mul__',\n",
       " '__ne__',\n",
       " '__neg__',\n",
       " '__new__',\n",
       " '__or__',\n",
       " '__pos__',\n",
       " '__pow__',\n",
       " '__radd__',\n",
       " '__rand__',\n",
       " '__rdivmod__',\n",
       " '__reduce__',\n",
       " '__reduce_ex__',\n",
       " '__repr__',\n",
       " '__rfloordiv__',\n",
       " '__rlshift__',\n",
       " '__rmod__',\n",
       " '__rmul__',\n",
       " '__ror__',\n",
       " '__round__',\n",
       " '__rpow__',\n",
       " '__rrshift__',\n",
       " '__rshift__',\n",
       " '__rsub__',\n",
       " '__rtruediv__',\n",
       " '__rxor__',\n",
       " '__setattr__',\n",
       " '__sizeof__',\n",
       " '__str__',\n",
       " '__sub__',\n",
       " '__subclasshook__',\n",
       " '__truediv__',\n",
       " '__trunc__',\n",
       " '__xor__',\n",
       " 'as_integer_ratio',\n",
       " 'bit_count',\n",
       " 'bit_length',\n",
       " 'conjugate',\n",
       " 'denominator',\n",
       " 'from_bytes',\n",
       " 'imag',\n",
       " 'numerator',\n",
       " 'real',\n",
       " 'to_bytes']"
      ]
     },
     "execution_count": 8,
     "metadata": {},
     "output_type": "execute_result"
    }
   ],
   "source": [
    "dir(1) #숫자1이 가진 기능들의 목록 보여줌"
   ]
  },
  {
   "cell_type": "markdown",
   "id": "00a681e3-ff43-4f4c-acac-dc7fcfc7290b",
   "metadata": {},
   "source": [
    "# 문자열 메소드"
   ]
  },
  {
   "cell_type": "code",
   "execution_count": 9,
   "id": "efcd4232-498d-4983-aefe-999a6ae9bd47",
   "metadata": {},
   "outputs": [],
   "source": [
    "a = 'hello my name is Alisha'"
   ]
  },
  {
   "cell_type": "code",
   "execution_count": 10,
   "id": "26556b8a-69e7-46c8-9433-5d25f0c196c4",
   "metadata": {},
   "outputs": [
    {
     "name": "stdout",
     "output_type": "stream",
     "text": [
      "hello my name is Alisha\n"
     ]
    }
   ],
   "source": [
    "print(a)"
   ]
  },
  {
   "cell_type": "code",
   "execution_count": 11,
   "id": "dd80836c-03ad-4467-a448-70b8dccef8be",
   "metadata": {},
   "outputs": [
    {
     "name": "stdout",
     "output_type": "stream",
     "text": [
      "h\n"
     ]
    }
   ],
   "source": [
    "print(a[0])"
   ]
  },
  {
   "cell_type": "code",
   "execution_count": 20,
   "id": "fb19c2a2-a28c-4f83-9df7-d48862d87cfb",
   "metadata": {},
   "outputs": [],
   "source": [
    "a = 'hello my name is alisha'"
   ]
  },
  {
   "cell_type": "code",
   "execution_count": 21,
   "id": "61e36e12-3056-4672-98e1-2ca639be45e1",
   "metadata": {},
   "outputs": [
    {
     "ename": "TypeError",
     "evalue": "'str' object does not support item assignment",
     "output_type": "error",
     "traceback": [
      "\u001b[1;31m---------------------------------------------------------------------------\u001b[0m",
      "\u001b[1;31mTypeError\u001b[0m                                 Traceback (most recent call last)",
      "Cell \u001b[1;32mIn[21], line 2\u001b[0m\n\u001b[0;32m      1\u001b[0m \u001b[38;5;66;03m#문자열은 immutable하기 때문에 수정 불가능\u001b[39;00m\n\u001b[1;32m----> 2\u001b[0m \u001b[43ma\u001b[49m\u001b[43m[\u001b[49m\u001b[38;5;241;43m0\u001b[39;49m\u001b[43m]\u001b[49m \u001b[38;5;241m=\u001b[39m \u001b[38;5;124m'\u001b[39m\u001b[38;5;124mH\u001b[39m\u001b[38;5;124m'\u001b[39m \u001b[38;5;66;03m#일부 수정불가능, 재할당 가능\u001b[39;00m\n",
      "\u001b[1;31mTypeError\u001b[0m: 'str' object does not support item assignment"
     ]
    }
   ],
   "source": [
    "#문자열은 immutable하기 때문에 수정 불가능\n",
    "a[0] = 'H' #일부 수정불가능, 재할당 가능"
   ]
  },
  {
   "cell_type": "code",
   "execution_count": 22,
   "id": "02d98f8e-20fb-4a87-99e1-809be9cea8a1",
   "metadata": {},
   "outputs": [
    {
     "name": "stdout",
     "output_type": "stream",
     "text": [
      "Hello my name is alisha\n"
     ]
    }
   ],
   "source": [
    "a = a.capitalize()\n",
    "print(a)"
   ]
  },
  {
   "cell_type": "code",
   "execution_count": 25,
   "id": "94303628-3010-45d3-9d55-62c703a4252c",
   "metadata": {},
   "outputs": [
    {
     "name": "stdout",
     "output_type": "stream",
     "text": [
      "Hello my name is alisha\n"
     ]
    }
   ],
   "source": [
    "a.title() #시작글자를 대문자로\n",
    "print(a)"
   ]
  },
  {
   "cell_type": "code",
   "execution_count": 24,
   "id": "78074da5-bf2f-44c6-83bd-42da05341912",
   "metadata": {},
   "outputs": [
    {
     "data": {
      "text/plain": [
       "'HELLO MY NAME IS ALISHA'"
      ]
     },
     "execution_count": 24,
     "metadata": {},
     "output_type": "execute_result"
    }
   ],
   "source": [
    "a.upper()"
   ]
  },
  {
   "cell_type": "code",
   "execution_count": 26,
   "id": "2b37f238-b9d4-4d99-8b81-af58efe17460",
   "metadata": {},
   "outputs": [
    {
     "data": {
      "text/plain": [
       "'hello my name is alisha'"
      ]
     },
     "execution_count": 26,
     "metadata": {},
     "output_type": "execute_result"
    }
   ],
   "source": [
    "a.lower()"
   ]
  },
  {
   "cell_type": "code",
   "execution_count": 27,
   "id": "a1101bf0-a028-468b-b489-48dbac1cd5f8",
   "metadata": {},
   "outputs": [
    {
     "name": "stdout",
     "output_type": "stream",
     "text": [
      "Hello my name is alisha\n"
     ]
    }
   ],
   "source": [
    "print(a)"
   ]
  },
  {
   "cell_type": "code",
   "execution_count": 29,
   "id": "3c6da658-c679-41b7-9871-02b8eada1a05",
   "metadata": {},
   "outputs": [
    {
     "data": {
      "text/plain": [
       "'hi??my??name'"
      ]
     },
     "execution_count": 29,
     "metadata": {},
     "output_type": "execute_result"
    }
   ],
   "source": [
    "my_list = ['hi', 'my', 'name']\n",
    "'??'.join(my_list)"
   ]
  },
  {
   "cell_type": "code",
   "execution_count": 38,
   "id": "384d70a0-bf16-44fa-be58-5585574e9028",
   "metadata": {},
   "outputs": [
    {
     "name": "stdout",
     "output_type": "stream",
     "text": [
      "   hello\n",
      "   \n",
      "hello\n",
      "ello\n",
      "ellohihi\n",
      "hihihello\n"
     ]
    }
   ],
   "source": [
    "# .strip([chars])\n",
    "\n",
    "my_string = '   hello\\n   '\n",
    "print(my_string) #공백 포함 출력\n",
    "print(my_string.strip()) #공백 제거 출력\n",
    "\n",
    "my_string2 = 'hihihellohihi'\n",
    "print(my_string2.strip('hi'))\n",
    "print(my_string2.lstrip('hi'))\n",
    "print(my_string2.rstrip('hi'))"
   ]
  },
  {
   "cell_type": "code",
   "execution_count": 40,
   "id": "fb985c52-d0b0-43a1-abe8-574f95569004",
   "metadata": {},
   "outputs": [
    {
     "data": {
      "text/plain": [
       "'w!!!oow'"
      ]
     },
     "execution_count": 40,
     "metadata": {},
     "output_type": "execute_result"
    }
   ],
   "source": [
    "# .replace(old, new[, count])\n",
    "a = 'wooooow'\n",
    "a.replace('o', '!', 3)"
   ]
  },
  {
   "cell_type": "code",
   "execution_count": 47,
   "id": "ac9becc9-2412-4979-8625-fafc0d981786",
   "metadata": {},
   "outputs": [
    {
     "name": "stdout",
     "output_type": "stream",
     "text": [
      "1\n",
      "-1\n",
      "-1\n",
      "1\n"
     ]
    }
   ],
   "source": [
    "# .find(x)\n",
    "a = 'apple'\n",
    "print(a.find('p'))\n",
    "print(a.find('z'))\n",
    "\n",
    "for i in range(len(a)):\n",
    "    if 'p' == a[i]:\n",
    "        print(i)\n",
    "        break\n",
    "    else:\n",
    "        print(-1)"
   ]
  },
  {
   "cell_type": "code",
   "execution_count": 48,
   "id": "1318c725-7ee2-4196-88cd-6e7abfc00a2c",
   "metadata": {},
   "outputs": [
    {
     "name": "stdout",
     "output_type": "stream",
     "text": [
      "0\n"
     ]
    },
    {
     "ename": "ValueError",
     "evalue": "substring not found",
     "output_type": "error",
     "traceback": [
      "\u001b[1;31m---------------------------------------------------------------------------\u001b[0m",
      "\u001b[1;31mValueError\u001b[0m                                Traceback (most recent call last)",
      "Cell \u001b[1;32mIn[48], line 4\u001b[0m\n\u001b[0;32m      2\u001b[0m a \u001b[38;5;241m=\u001b[39m \u001b[38;5;124m'\u001b[39m\u001b[38;5;124mapple\u001b[39m\u001b[38;5;124m'\u001b[39m\n\u001b[0;32m      3\u001b[0m \u001b[38;5;28mprint\u001b[39m(a\u001b[38;5;241m.\u001b[39mindex(\u001b[38;5;124m'\u001b[39m\u001b[38;5;124ma\u001b[39m\u001b[38;5;124m'\u001b[39m))\n\u001b[1;32m----> 4\u001b[0m \u001b[38;5;28mprint\u001b[39m(\u001b[43ma\u001b[49m\u001b[38;5;241;43m.\u001b[39;49m\u001b[43mindex\u001b[49m\u001b[43m(\u001b[49m\u001b[38;5;124;43m'\u001b[39;49m\u001b[38;5;124;43mz\u001b[39;49m\u001b[38;5;124;43m'\u001b[39;49m\u001b[43m)\u001b[49m)\n",
      "\u001b[1;31mValueError\u001b[0m: substring not found"
     ]
    }
   ],
   "source": [
    "# .index(x)\n",
    "a = 'apple'\n",
    "print(a.index('a'))\n",
    "print(a.index('z'))"
   ]
  },
  {
   "cell_type": "code",
   "execution_count": 49,
   "id": "7ac5685b-eeda-4f2c-b11f-8d8b68c065a6",
   "metadata": {},
   "outputs": [
    {
     "data": {
      "text/plain": [
       "['my', 'name', 'is']"
      ]
     },
     "execution_count": 49,
     "metadata": {},
     "output_type": "execute_result"
    }
   ],
   "source": [
    "# .split(x)\n",
    "a = 'my_name_is'\n",
    "a.split('_')"
   ]
  },
  {
   "cell_type": "code",
   "execution_count": 51,
   "id": "ca62d238-c7d5-44e5-871e-1381b7ed7c18",
   "metadata": {},
   "outputs": [
    {
     "data": {
      "text/plain": [
       "2"
      ]
     },
     "execution_count": 51,
     "metadata": {},
     "output_type": "execute_result"
    }
   ],
   "source": [
    "# .count(x)\n",
    "'woooooooooooow'.count('w')"
   ]
  },
  {
   "cell_type": "markdown",
   "id": "81016a0b-262a-4f89-84d0-1a1e59d8ebad",
   "metadata": {},
   "source": [
    "## 리스트 메소드"
   ]
  },
  {
   "cell_type": "code",
   "execution_count": 71,
   "id": "79f1da62-d01b-48b5-98a7-c0506d028296",
   "metadata": {},
   "outputs": [],
   "source": [
    "numbers = [1, 5, 2, 6, 2, 1]"
   ]
  },
  {
   "cell_type": "code",
   "execution_count": 73,
   "id": "6d94cafb-b3c4-40fa-986e-dd0d234156c8",
   "metadata": {},
   "outputs": [
    {
     "name": "stdout",
     "output_type": "stream",
     "text": [
      "[5, 2, 6, 2, 10]\n"
     ]
    }
   ],
   "source": [
    "# .append(x)\n",
    "numbers.append(10)\n",
    "print(numbers)"
   ]
  },
  {
   "cell_type": "code",
   "execution_count": 90,
   "id": "bf6929ea-63c1-4a64-8e94-9682c4ecc6f3",
   "metadata": {},
   "outputs": [
    {
     "name": "stdout",
     "output_type": "stream",
     "text": [
      "[1, 6, 2, 1, 3, 2, 7, 10, 99, 100]\n",
      "[1, 6, 2, 1, 3, 2, 7, 10, 99, 100, 99, 100]\n"
     ]
    }
   ],
   "source": [
    "# .extend(iterable)\n",
    "a = [99, 100]\n",
    "\n",
    "numbers.extend(a)\n",
    "print(numbers)\n",
    "print(numbers + a)"
   ]
  },
  {
   "cell_type": "code",
   "execution_count": 75,
   "id": "9ea25da2-f91c-47db-abd4-9515e6d39488",
   "metadata": {},
   "outputs": [
    {
     "name": "stdout",
     "output_type": "stream",
     "text": [
      "[5, 2, 6, 3.5, 2, 10, 99, 100]\n"
     ]
    }
   ],
   "source": [
    "# .insert(idx, x)\n",
    "numbers.insert(3, 3.5)\n",
    "print(numbers)"
   ]
  },
  {
   "cell_type": "code",
   "execution_count": 76,
   "id": "47fccf6f-1d62-4ab4-9305-2bce5c203cc2",
   "metadata": {},
   "outputs": [
    {
     "name": "stdout",
     "output_type": "stream",
     "text": [
      "[5, 2, 6, 2, 10, 99, 100]\n"
     ]
    }
   ],
   "source": [
    "# .remove(x)\n",
    "numbers.remove(3.5)\n",
    "print(numbers)"
   ]
  },
  {
   "cell_type": "code",
   "execution_count": 92,
   "id": "29c35aba-444f-40b1-857f-1065ed799e66",
   "metadata": {},
   "outputs": [
    {
     "name": "stdout",
     "output_type": "stream",
     "text": [
      "[6, 2, 1, 3, 2, 7, 10]\n",
      "[2, 1, 3, 2, 7, 10]\n"
     ]
    }
   ],
   "source": [
    "# .pop(x)\n",
    "numbers.pop() #제일 뒤 데이터 삭제\n",
    "print(numbers)\n",
    "\n",
    "numbers.pop(0) #0번자리 데이터 삭제\n",
    "print(numbers)"
   ]
  },
  {
   "cell_type": "code",
   "execution_count": 78,
   "id": "4222cc13-c527-4e84-be6d-6def54429710",
   "metadata": {},
   "outputs": [
    {
     "name": "stdout",
     "output_type": "stream",
     "text": [
      "99\n"
     ]
    }
   ],
   "source": [
    "num = numbers.pop()\n",
    "print(num)"
   ]
  },
  {
   "cell_type": "code",
   "execution_count": 82,
   "id": "051794a3-fbb2-42b2-aad6-d8944a882920",
   "metadata": {},
   "outputs": [
    {
     "name": "stdout",
     "output_type": "stream",
     "text": [
      "[1, 6, 2, 1, 3, 2, 7, 10]\n",
      "None\n",
      "[1, 1, 2, 2, 3, 6, 7, 10]\n",
      "[10, 7, 6, 3, 2, 2, 1, 1]\n"
     ]
    }
   ],
   "source": [
    "# .sort()\n",
    "numbers = [1, 6, 2, 1, 3, 2, 7, 10]\n",
    "print(numbers)\n",
    "\n",
    "print(numbers.sort())\n",
    "\n",
    "print(numbers)\n",
    "numbers.sort(reverse=True)\n",
    "print(numbers)"
   ]
  },
  {
   "cell_type": "code",
   "execution_count": 86,
   "id": "455b4a44-e3c5-467c-baa2-2d519e97b49b",
   "metadata": {},
   "outputs": [
    {
     "name": "stdout",
     "output_type": "stream",
     "text": [
      "[1, 1, 2, 2, 3, 6, 7, 10]\n",
      "[1, 6, 2, 1, 3, 2, 7, 10]\n"
     ]
    }
   ],
   "source": [
    "numbers = [1, 6, 2, 1, 3, 2, 7, 10]\n",
    "print(sorted(numbers))\n",
    "print(numbers)"
   ]
  },
  {
   "cell_type": "code",
   "execution_count": 89,
   "id": "ae3acb43-25ac-422e-b6a1-f990de55f058",
   "metadata": {},
   "outputs": [
    {
     "name": "stdout",
     "output_type": "stream",
     "text": [
      "[1, 6, 2, 1, 3, 2, 7, 10]\n",
      "[10, 7, 2, 3, 1, 2, 6, 1]\n",
      "[1, 6, 2, 1, 3, 2, 7, 10]\n"
     ]
    }
   ],
   "source": [
    "# .reverse()\n",
    "numbers = [1, 6, 2, 1, 3, 2, 7, 10]\n",
    "print(numbers)\n",
    "numbers.reverse()\n",
    "print(numbers)\n",
    "numbers = numbers[  :  : -1 ]\n",
    "print(numbers)"
   ]
  },
  {
   "cell_type": "markdown",
   "id": "ac88e3b2-289e-48a4-a388-0dc65918779e",
   "metadata": {},
   "source": [
    "## list copy"
   ]
  },
  {
   "cell_type": "code",
   "execution_count": 94,
   "id": "ea179d29-bbe1-42a2-b798-c15a65622e07",
   "metadata": {},
   "outputs": [],
   "source": [
    "origin_list = [1, 2, 3]\n",
    "copy_list = origin_list"
   ]
  },
  {
   "cell_type": "code",
   "execution_count": 95,
   "id": "fae3962f-b466-43f8-b2f5-1659e9a2b359",
   "metadata": {},
   "outputs": [
    {
     "name": "stdout",
     "output_type": "stream",
     "text": [
      "[1, 2, 3]\n",
      "[1, 2, 3]\n"
     ]
    }
   ],
   "source": [
    "print(origin_list)\n",
    "print(copy_list)"
   ]
  },
  {
   "cell_type": "code",
   "execution_count": 96,
   "id": "42246856-3ff5-43c1-8453-7c6192ed9047",
   "metadata": {},
   "outputs": [],
   "source": [
    "copy_list[0] = 100"
   ]
  },
  {
   "cell_type": "code",
   "execution_count": 97,
   "id": "e42112a6-c862-46cd-bba3-10d3c16381c7",
   "metadata": {},
   "outputs": [
    {
     "name": "stdout",
     "output_type": "stream",
     "text": [
      "[100, 2, 3]\n",
      "[100, 2, 3]\n"
     ]
    }
   ],
   "source": [
    "print(origin_list)\n",
    "print(copy_list)"
   ]
  },
  {
   "cell_type": "code",
   "execution_count": 99,
   "id": "a2165658-ec26-4417-bfb1-61b76e647a10",
   "metadata": {},
   "outputs": [
    {
     "name": "stdout",
     "output_type": "stream",
     "text": [
      "[1, 2, 3]\n",
      "[100, 2, 3]\n"
     ]
    }
   ],
   "source": [
    "a = [1, 2, 3]\n",
    "# b = list(a)\n",
    "b = a[:]\n",
    "\n",
    "b[0] = 100\n",
    "\n",
    "print(a)\n",
    "print(b)"
   ]
  },
  {
   "cell_type": "code",
   "execution_count": 100,
   "id": "60750197-c5c1-4f69-80ba-f3671c47ef42",
   "metadata": {},
   "outputs": [
    {
     "name": "stdout",
     "output_type": "stream",
     "text": [
      "[1, 2, [99, 1000]]\n",
      "[1, 2, [99, 1000]]\n"
     ]
    }
   ],
   "source": [
    "a = [        1,         2, [99, 100]   ]\n",
    "b = a[:]\n",
    "# b = list(a)\n",
    "\n",
    "b[2][1] = 1000\n",
    "\n",
    "print(a)\n",
    "print(b)"
   ]
  },
  {
   "cell_type": "code",
   "execution_count": 102,
   "id": "1c262d08-5a2b-4304-ac12-d9f53e7e16ab",
   "metadata": {},
   "outputs": [
    {
     "name": "stdout",
     "output_type": "stream",
     "text": [
      "[1, 2, [99, 100]]\n",
      "[1, 2, [99, 1000]]\n"
     ]
    }
   ],
   "source": [
    "import copy\n",
    "a = [1, 2, [99, 100]]\n",
    "b = copy.deepcopy(a) #list안에 list있는 경우의 복제\n",
    "\n",
    "b[2][1] = 1000\n",
    "\n",
    "print(a)\n",
    "print(b)"
   ]
  },
  {
   "cell_type": "markdown",
   "id": "53526f57-6846-4ec8-871f-6683619051cc",
   "metadata": {},
   "source": [
    "## list comprehension"
   ]
  },
  {
   "cell_type": "code",
   "execution_count": 103,
   "id": "c283436a-0795-40f2-b536-d03fe10d07fb",
   "metadata": {},
   "outputs": [
    {
     "name": "stdout",
     "output_type": "stream",
     "text": [
      "[1, 2, 3, 4, 5, 6, 7, 8, 9, 10]\n"
     ]
    }
   ],
   "source": [
    "numbers = list(range(1, 11))\n",
    "print(numbers)"
   ]
  },
  {
   "cell_type": "code",
   "execution_count": 104,
   "id": "bdd591d9-f881-49f7-8e5c-3ca64752d98a",
   "metadata": {},
   "outputs": [
    {
     "name": "stdout",
     "output_type": "stream",
     "text": [
      "[1, 8, 27, 64, 125, 216, 343, 512, 729, 1000]\n"
     ]
    }
   ],
   "source": [
    "# [1, 8, 27 ... 1000] => 세제곱 만들기\n",
    "result = []\n",
    "\n",
    "for number in numbers:\n",
    "    result.append(number ** 3)\n",
    "print(result)"
   ]
  },
  {
   "cell_type": "code",
   "execution_count": 105,
   "id": "a9a71c1a-ad91-47b8-b64b-d59b932982c8",
   "metadata": {},
   "outputs": [
    {
     "name": "stdout",
     "output_type": "stream",
     "text": [
      "[1, 8, 27, 64, 125, 216, 343, 512, 729, 1000]\n"
     ]
    }
   ],
   "source": [
    "result2 = [ number ** 3 for number in numbers ]\n",
    "print(result)"
   ]
  },
  {
   "cell_type": "code",
   "execution_count": 107,
   "id": "f4b07fe8-aa8d-45c4-b3d7-002e2eb83898",
   "metadata": {},
   "outputs": [
    {
     "name": "stdout",
     "output_type": "stream",
     "text": [
      "[2, 4, 6, 8, 10]\n"
     ]
    }
   ],
   "source": [
    "# 짝수만 고르기\n",
    "even_list = []\n",
    "for number in numbers:\n",
    "    if number % 2 == 0:\n",
    "        even_list.append(number)\n",
    "        \n",
    "print(even_list)"
   ]
  },
  {
   "cell_type": "code",
   "execution_count": 108,
   "id": "aa8cae53-52bf-48bb-b35e-fb96da78f8f6",
   "metadata": {},
   "outputs": [
    {
     "name": "stdout",
     "output_type": "stream",
     "text": [
      "[2, 4, 6, 8, 10]\n"
     ]
    }
   ],
   "source": [
    "# 짝수만 고르기 (list conprehension)\n",
    "even_list2 = [ number for number in numbers if number % 2 == 0]\n",
    "print(even_list2)"
   ]
  },
  {
   "cell_type": "code",
   "execution_count": 109,
   "id": "16c184bb-1ba5-4178-bcd7-0ec7571ec245",
   "metadata": {},
   "outputs": [],
   "source": [
    "words = 'my name is hong'\n",
    "vowels = 'aeiou'\n",
    "\n",
    "# => my ns s hng"
   ]
  },
  {
   "cell_type": "code",
   "execution_count": 116,
   "id": "9ecb4787-217d-4110-a67d-970b6e97e362",
   "metadata": {},
   "outputs": [
    {
     "name": "stdout",
     "output_type": "stream",
     "text": [
      "['m', 'y', ' ', 'n', 'm', ' ', 's', ' ', 'h', 'n', 'g']\n",
      "my nm s hng\n"
     ]
    }
   ],
   "source": [
    "# 1. for문\n",
    "\n",
    "result = []\n",
    "for char in words:\n",
    "    if char not in vowels:\n",
    "        result.append(char)\n",
    "\n",
    "print(result)\n",
    "print(''.join(result))"
   ]
  },
  {
   "cell_type": "code",
   "execution_count": 114,
   "id": "55b96b66-2713-423a-928f-e6df0b267a19",
   "metadata": {},
   "outputs": [
    {
     "name": "stdout",
     "output_type": "stream",
     "text": [
      "['m', 'y', ' ', 'n', 'm', ' ', 's', ' ', 'h', 'n', 'g']\n",
      "my nm s hng\n"
     ]
    }
   ],
   "source": [
    "# 2. list comprehension\n",
    "result = [char for char in words if char not in vowels]\n",
    "print(result)\n",
    "print(''.join(result))"
   ]
  },
  {
   "cell_type": "markdown",
   "id": "1907398b-45e7-41ca-8c9c-e894ec71f54b",
   "metadata": {},
   "source": [
    "## 딕셔너리 메소드"
   ]
  },
  {
   "cell_type": "code",
   "execution_count": 124,
   "id": "34664fc2-fcab-43e6-acba-bcb04e49c0b5",
   "metadata": {},
   "outputs": [],
   "source": [
    "info = {\n",
    "    'name': 'Alisha',\n",
    "    'location': 'Incheon',\n",
    "}"
   ]
  },
  {
   "cell_type": "code",
   "execution_count": 120,
   "id": "0f157e77-114e-4f0a-b47f-03d3a0c0f582",
   "metadata": {},
   "outputs": [
    {
     "name": "stdout",
     "output_type": "stream",
     "text": [
      "{'name': 'kia', 'location': 'Incheon'}\n"
     ]
    }
   ],
   "source": [
    "info['name'] = 'kia'\n",
    "print(info)"
   ]
  },
  {
   "cell_type": "code",
   "execution_count": 132,
   "id": "20da5f9b-e61f-4d35-bbd9-886db6868db4",
   "metadata": {},
   "outputs": [
    {
     "name": "stdout",
     "output_type": "stream",
     "text": [
      "{'name': 'Alisha'}\n"
     ]
    },
    {
     "ename": "KeyError",
     "evalue": "'location'",
     "output_type": "error",
     "traceback": [
      "\u001b[1;31m---------------------------------------------------------------------------\u001b[0m",
      "\u001b[1;31mKeyError\u001b[0m                                  Traceback (most recent call last)",
      "Cell \u001b[1;32mIn[132], line 3\u001b[0m\n\u001b[0;32m      1\u001b[0m \u001b[38;5;66;03m# .pop(key[, default])\u001b[39;00m\n\u001b[0;32m      2\u001b[0m \u001b[38;5;28mprint\u001b[39m(info)\n\u001b[1;32m----> 3\u001b[0m \u001b[38;5;28mprint\u001b[39m(\u001b[43minfo\u001b[49m\u001b[38;5;241;43m.\u001b[39;49m\u001b[43mpop\u001b[49m\u001b[43m(\u001b[49m\u001b[38;5;124;43m'\u001b[39;49m\u001b[38;5;124;43mlocation\u001b[39;49m\u001b[38;5;124;43m'\u001b[39;49m\u001b[43m)\u001b[49m)\n\u001b[0;32m      5\u001b[0m \u001b[38;5;28mprint\u001b[39m(info)\n\u001b[0;32m      6\u001b[0m \u001b[38;5;28mprint\u001b[39m(info\u001b[38;5;241m.\u001b[39mpop(\u001b[38;5;124m'\u001b[39m\u001b[38;5;124mlocation\u001b[39m\u001b[38;5;124m'\u001b[39m, \u001b[38;5;28;01mNone\u001b[39;00m))\n",
      "\u001b[1;31mKeyError\u001b[0m: 'location'"
     ]
    }
   ],
   "source": [
    "# .pop(key[, default]) #에러 왜 나옴?\n",
    "print(info)\n",
    "print(info.pop('location'))\n",
    "\n",
    "print(info)\n",
    "print(info.pop('location', None))"
   ]
  },
  {
   "cell_type": "code",
   "execution_count": 133,
   "id": "bbb08f22-0c5a-4dcf-bb2e-11e14e60c681",
   "metadata": {},
   "outputs": [
    {
     "name": "stdout",
     "output_type": "stream",
     "text": [
      "{'name': 'park'}\n"
     ]
    }
   ],
   "source": [
    "# .update()\n",
    "info.update(name='park')\n",
    "print(info)"
   ]
  },
  {
   "cell_type": "code",
   "execution_count": 136,
   "id": "04721574-16d3-44d8-a935-87e29733b7cf",
   "metadata": {},
   "outputs": [
    {
     "name": "stdout",
     "output_type": "stream",
     "text": [
      "park\n",
      "None\n",
      "해당키가 없습니다.\n"
     ]
    }
   ],
   "source": [
    "# .get(key[, default])\n",
    "print(info.get('name'))\n",
    "print(info.get('phone'))\n",
    "print(info.get('phone', '해당키가 없습니다.'))"
   ]
  },
  {
   "cell_type": "markdown",
   "id": "b932974e-e698-48aa-954d-67ede8088e51",
   "metadata": {},
   "source": [
    "## dict comprehension"
   ]
  },
  {
   "cell_type": "code",
   "execution_count": 137,
   "id": "82d89d41-ab63-45f4-973f-0d2517af2338",
   "metadata": {},
   "outputs": [
    {
     "name": "stdout",
     "output_type": "stream",
     "text": [
      "{1: 1, 2: 8, 3: 27, 4: 64, 5: 125, 6: 216, 7: 343, 8: 512, 9: 729, 10: 1000}\n"
     ]
    }
   ],
   "source": [
    "# for \n",
    "# {1: 1, 2: 8, 3: 9...}\n",
    "result = {}\n",
    "numbers = range(1, 11)\n",
    "for number in numbers:\n",
    "    result[number] = number ** 3\n",
    "\n",
    "print(result)"
   ]
  },
  {
   "cell_type": "code",
   "execution_count": 138,
   "id": "cea7fbc7-8ca5-4f9d-b19a-3de568d48ca2",
   "metadata": {},
   "outputs": [
    {
     "name": "stdout",
     "output_type": "stream",
     "text": [
      "{1: 1, 2: 8, 3: 27, 4: 64, 5: 125, 6: 216, 7: 343, 8: 512, 9: 729, 10: 1000}\n"
     ]
    }
   ],
   "source": [
    "# comp\n",
    "result2 = { number: number ** 3 for number in range(1, 11) }\n",
    "print(result2)"
   ]
  },
  {
   "cell_type": "code",
   "execution_count": 139,
   "id": "995f548b-8abf-4b7f-a3b2-43454c831514",
   "metadata": {},
   "outputs": [
    {
     "name": "stdout",
     "output_type": "stream",
     "text": [
      "{'서울': 100, '부산': 50, '광주': 80}\n"
     ]
    }
   ],
   "source": [
    "#\n",
    "dust = {\n",
    "    '서울': 100,\n",
    "    '대구': 30,\n",
    "    '부산': 50,\n",
    "    '광주': 80,\n",
    "    '제주': 20,\n",
    "}\n",
    "\n",
    "result = {}\n",
    "for k,v in dust.items():\n",
    "    if v >= 50:\n",
    "        result[k] = v\n",
    "\n",
    "print(result)\n",
    "\n",
    "\n",
    "# result = {\n",
    "#     '서울': 100,\n",
    "#     '부산': 50,\n",
    "#     '광주': 80,\n",
    "# }"
   ]
  },
  {
   "cell_type": "code",
   "execution_count": 140,
   "id": "ddb6b14a-3f77-4dd4-8a8f-2240b61ac2f9",
   "metadata": {},
   "outputs": [
    {
     "name": "stdout",
     "output_type": "stream",
     "text": [
      "{'서울': 100, '부산': 50, '광주': 80}\n"
     ]
    }
   ],
   "source": [
    "# 2. comp\n",
    "result2 = { k: v for k, v in dust.items() if v >= 50 }\n",
    "print(result2)"
   ]
  },
  {
   "cell_type": "code",
   "execution_count": 141,
   "id": "22e277bf-7192-4915-8bac-6425dae4e227",
   "metadata": {},
   "outputs": [
    {
     "name": "stdout",
     "output_type": "stream",
     "text": [
      "{'서울': '나쁨', '부산': '나쁨', '광주': '나쁨'}\n"
     ]
    }
   ],
   "source": [
    "result2 = { k: '나쁨' for k, v in dust.items() if v >= 50 }\n",
    "print(result2)"
   ]
  },
  {
   "cell_type": "markdown",
   "id": "9398727a-cef4-4dc8-8c03-69fb8127dcde",
   "metadata": {},
   "source": [
    "## 세트 메소드 #?????"
   ]
  },
  {
   "cell_type": "code",
   "execution_count": null,
   "id": "3f4594d0-7890-48e1-ac1c-94c3c25a74d0",
   "metadata": {},
   "outputs": [],
   "source": []
  },
  {
   "cell_type": "code",
   "execution_count": 142,
   "id": "466395e8-7a9c-4e64-9ac7-508e55754819",
   "metadata": {},
   "outputs": [],
   "source": [
    "fruits = {'apple', 'banana', 'melon'}"
   ]
  },
  {
   "cell_type": "code",
   "execution_count": 144,
   "id": "90db6331-1c05-4259-b06f-7d544ad80b6c",
   "metadata": {},
   "outputs": [
    {
     "name": "stdout",
     "output_type": "stream",
     "text": [
      "{'apple', 'banana', 'watermelon', 'melon'}\n",
      "{'apple', 'banana', 'watermelon', 'melon'}\n"
     ]
    }
   ],
   "source": [
    "# .add(x)\n",
    "fruits.add('watermelon')\n",
    "print(fruits)\n",
    "fruits.add('watermelon')\n",
    "print(fruits)"
   ]
  },
  {
   "cell_type": "code",
   "execution_count": 147,
   "id": "7f732ee4-df4f-44cb-8fe9-92a7e1e0e5cf",
   "metadata": {},
   "outputs": [
    {
     "name": "stdout",
     "output_type": "stream",
     "text": [
      "{'p', 'watermelon', 'orange', 'grape', 'g', 'e', 'melon', 'apple', 'a', 'r', 'banana'}\n"
     ]
    }
   ],
   "source": [
    "# .update()\n",
    "# fruits.update('grape')\n",
    "# print(fruits)\n",
    "fruits.update({'grape', 'orange'})\n",
    "print(fruits)"
   ]
  },
  {
   "cell_type": "code",
   "execution_count": 148,
   "id": "5bf77323-c6fc-4569-a15f-8e25612864c7",
   "metadata": {},
   "outputs": [
    {
     "name": "stdout",
     "output_type": "stream",
     "text": [
      "{'p', 'watermelon', 'grape', 'g', 'e', 'melon', 'apple', 'a', 'r', 'banana'}\n"
     ]
    }
   ],
   "source": [
    "# .remove()\n",
    "fruits.remove('orange')\n",
    "print(fruits)"
   ]
  },
  {
   "cell_type": "code",
   "execution_count": 149,
   "id": "82f92691-8cbd-4332-8073-ba430282f132",
   "metadata": {},
   "outputs": [
    {
     "name": "stdout",
     "output_type": "stream",
     "text": [
      "{'watermelon', 'grape', 'g', 'e', 'melon', 'apple', 'a', 'r', 'banana'}\n"
     ]
    }
   ],
   "source": [
    "# .pop()\n",
    "fruits.pop()\n",
    "print(fruits)"
   ]
  },
  {
   "cell_type": "markdown",
   "id": "1d1f1679-36e8-4ca6-a999-76cb567e0091",
   "metadata": {},
   "source": [
    "## map, filter, zip"
   ]
  },
  {
   "cell_type": "code",
   "execution_count": 152,
   "id": "34ec9d61-2376-4947-8283-8a9d256972c1",
   "metadata": {},
   "outputs": [
    {
     "name": "stdout",
     "output_type": "stream",
     "text": [
      "<map object at 0x000001AF20D855D0>\n",
      "['1', '2', '3']\n"
     ]
    }
   ],
   "source": [
    "a = [1, 2, 3]\n",
    "number_str = map(str, a)\n",
    "print(number_str)\n",
    "print(list(number_str))"
   ]
  },
  {
   "cell_type": "code",
   "execution_count": 155,
   "id": "9c5916fe-7709-4173-97a6-ffac82b7ab43",
   "metadata": {},
   "outputs": [
    {
     "name": "stdout",
     "output_type": "stream",
     "text": [
      "[1, 8, 27]\n"
     ]
    }
   ],
   "source": [
    "result = []\n",
    "for i in a:\n",
    "    result.append(i ** 3)\n",
    "\n",
    "print(result)"
   ]
  },
  {
   "cell_type": "code",
   "execution_count": 153,
   "id": "c7f05457-b654-4f70-b26b-6c798aa38b1e",
   "metadata": {},
   "outputs": [
    {
     "name": "stdout",
     "output_type": "stream",
     "text": [
      "125\n",
      "1000\n"
     ]
    }
   ],
   "source": [
    "def cube(x):\n",
    "    return x ** 3\n",
    "\n",
    "print(cube(5))\n",
    "print(cube(10))"
   ]
  },
  {
   "cell_type": "code",
   "execution_count": 157,
   "id": "7129539d-14c7-472a-9d4c-0f08adac4b56",
   "metadata": {},
   "outputs": [
    {
     "name": "stdout",
     "output_type": "stream",
     "text": [
      "[1, 8, 27]\n"
     ]
    }
   ],
   "source": [
    "result2 = map(cube, a)\n",
    "print(list(result2))"
   ]
  },
  {
   "cell_type": "code",
   "execution_count": 159,
   "id": "b5b5bc94-1ef2-4bc8-9cf9-60d18a2250fd",
   "metadata": {},
   "outputs": [
    {
     "name": "stdout",
     "output_type": "stream",
     "text": [
      "[1, 3, 5, 7, 9]\n"
     ]
    }
   ],
   "source": [
    "a = '1 3 5 7 9'\n",
    "# numbers = [1, 3, 5, 7, 9]\n",
    "numbers = list(map(int, a.split()))\n",
    "print(numbers)"
   ]
  },
  {
   "cell_type": "markdown",
   "id": "9d7f8a4a-d073-4048-ba9d-dc61d34b1c01",
   "metadata": {},
   "source": [
    "- filter(function, iterable)\n",
    " - filter에 들어가는 function은 T/F를 반환해야 합니다."
   ]
  },
  {
   "cell_type": "code",
   "execution_count": 165,
   "id": "555618ef-4eec-4198-b240-6c0eb5ccf094",
   "metadata": {},
   "outputs": [
    {
     "name": "stdout",
     "output_type": "stream",
     "text": [
      "True\n",
      "False\n"
     ]
    }
   ],
   "source": [
    "def is_odd(x):\n",
    "    if x % 2 == 1:\n",
    "        return True\n",
    "    else:\n",
    "        return False\n",
    "\n",
    "print(is_add(5))\n",
    "print(is_add(10))"
   ]
  },
  {
   "cell_type": "code",
   "execution_count": 163,
   "id": "75e0dd66-fb05-46b3-af54-1166f5502c24",
   "metadata": {},
   "outputs": [],
   "source": [
    "numbers = [1, 2, 3, 4, 5]"
   ]
  },
  {
   "cell_type": "code",
   "execution_count": 168,
   "id": "38fb1757-789b-4bd7-b7b1-bb5d78f01fb7",
   "metadata": {},
   "outputs": [
    {
     "name": "stdout",
     "output_type": "stream",
     "text": [
      "[1, 3, 5]\n"
     ]
    }
   ],
   "source": [
    "# for \n",
    "result = []\n",
    "for number in numbers:\n",
    "    if is_odd(number):\n",
    "        result.append(number)\n",
    "\n",
    "print(result)"
   ]
  },
  {
   "cell_type": "code",
   "execution_count": 169,
   "id": "0cd4330f-3d19-4954-b238-c1eb99fb35b3",
   "metadata": {},
   "outputs": [
    {
     "name": "stdout",
     "output_type": "stream",
     "text": [
      "[1, 3, 5]\n"
     ]
    }
   ],
   "source": [
    "result2 = filter(is_odd, numbers)\n",
    "print(list(result2))"
   ]
  },
  {
   "cell_type": "markdown",
   "id": "b8d4f998-104f-498b-9305-0d96a2f3e030",
   "metadata": {},
   "source": [
    "- zip"
   ]
  },
  {
   "cell_type": "code",
   "execution_count": 171,
   "id": "f8443ddc-bb87-4cc7-828b-1828d9bb55f0",
   "metadata": {},
   "outputs": [],
   "source": [
    "a = [1, 2, 3, 4]\n",
    "b = [100, 200, 300, 400, 500]"
   ]
  },
  {
   "cell_type": "code",
   "execution_count": 172,
   "id": "344aba8c-29dc-42fc-9270-127b946818d9",
   "metadata": {},
   "outputs": [
    {
     "name": "stdout",
     "output_type": "stream",
     "text": [
      "<zip object at 0x000001AF211B2CC0>\n",
      "[(1, 100), (2, 200), (3, 300), (4, 400)]\n"
     ]
    }
   ],
   "source": [
    "result = zip(a, b)\n",
    "print(result)\n",
    "print(list(result))"
   ]
  }
 ],
 "metadata": {
  "kernelspec": {
   "display_name": "Python 3 (ipykernel)",
   "language": "python",
   "name": "python3"
  },
  "language_info": {
   "codemirror_mode": {
    "name": "ipython",
    "version": 3
   },
   "file_extension": ".py",
   "mimetype": "text/x-python",
   "name": "python",
   "nbconvert_exporter": "python",
   "pygments_lexer": "ipython3",
   "version": "3.11.5"
  }
 },
 "nbformat": 4,
 "nbformat_minor": 5
}
