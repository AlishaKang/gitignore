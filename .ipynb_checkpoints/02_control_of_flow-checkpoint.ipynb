{
 "cells": [
  {
   "cell_type": "markdown",
   "id": "e3f6d65d-c8ad-4adc-a5e6-404fac40f4e8",
   "metadata": {},
   "source": [
    "# 제어문"
   ]
  },
  {
   "cell_type": "markdown",
   "id": "312c5a8c-2bd9-4a4f-aef1-47a337ef417d",
   "metadata": {},
   "source": [
    "## 조건문(if문)\n",
    "\n",
    "```python\n",
    "if <조건식>:\n",
    "    if의 조건식이 참인 경우 실행하는 코드\n",
    "else:\n",
    "    if의 조건식이 거짓인 경우 실행하는 코드\n",
    "```\n",
    "\n",
    "1. `if`문은 반드시 참/거짓을 판단 할 수 있는 `조건식`과 함께 사용한다.\n",
    "2. `조건식`이 참인 경우 : 이후의 문장을 실행한다.\n",
    "3. `조건식`이 거짓인 경우 : `else:`이후의 문장을 실행한다."
   ]
  },
  {
   "cell_type": "code",
   "execution_count": null,
   "id": "b1db56f3-517e-4aae-9685-f652dbc887c5",
   "metadata": {},
   "outputs": [],
   "source": [
    "my_string = input()\n",
    "\n",
    "if my_string == '12/25':\n",
    "    print('크리스마스입니다.')\n",
    "else:\n",
    "    print('크리스마스가 아닙니다.')"
   ]
  },
  {
   "cell_type": "code",
   "execution_count": 1,
   "id": "552a0023-5a07-451e-8675-d26b697903b8",
   "metadata": {},
   "outputs": [
    {
     "name": "stdin",
     "output_type": "stream",
     "text": [
      "숫자를 입력해주세요 :  25\n"
     ]
    },
    {
     "name": "stdout",
     "output_type": "stream",
     "text": [
      "홀수입니다\n"
     ]
    }
   ],
   "source": [
    "num = input('숫자를 입력해주세요 : ')\n",
    "num = int(num)\n",
    "\n",
    "if num % 2 == 0:\n",
    "    print('짝수입니다')\n",
    "else:\n",
    "    print('홀수입니다')"
   ]
  },
  {
   "cell_type": "code",
   "execution_count": null,
   "id": "0bab4737-4afe-4e95-96cd-bb213eff5b87",
   "metadata": {},
   "outputs": [],
   "source": [
    "num = input('숫자를 입력해주세요 : ')\n",
    "num = int(num)\n",
    "\n",
    "if num % 2 == 1:\n",
    "    print('홀수입니다')\n",
    "else:\n",
    "    print('짝수입니다')"
   ]
  },
  {
   "cell_type": "code",
   "execution_count": 2,
   "id": "e854c746-9a9d-4273-8559-16c103ba57a2",
   "metadata": {},
   "outputs": [
    {
     "name": "stdin",
     "output_type": "stream",
     "text": [
      "숫자를 입력해주세요 :  1\n"
     ]
    },
    {
     "name": "stdout",
     "output_type": "stream",
     "text": [
      "홀수입니다\n"
     ]
    }
   ],
   "source": [
    "# num을 2로 나눈 나머지는 0, 1 두 가지 경우가 있다.\n",
    "# if조건식과 0, 1은 자동형변환이 일어나 False, True로 변환된다.\n",
    "num = input('숫자를 입력해주세요 : ')\n",
    "num = int(num)\n",
    "\n",
    "if num % 2:\n",
    "    print('홀수입니다')\n",
    "else:\n",
    "    print('짝수입니다')"
   ]
  },
  {
   "cell_type": "markdown",
   "id": "d9f0a526-bb96-46ed-961a-17278ea39f73",
   "metadata": {},
   "source": [
    "### elif\n",
    "```python\n",
    "if <조건식>:\n",
    "    if 조건이 참인 경우 실행\n",
    "elif <조건식>:\n",
    "    elif 조건이 참인 경우 실행\n",
    "...\n",
    "else:\n",
    "    if 조건이 거짓인 경우 실행\n",
    "```"
   ]
  },
  {
   "cell_type": "code",
   "execution_count": 3,
   "id": "78722020-cbff-4283-b698-75e5b00165a7",
   "metadata": {},
   "outputs": [
    {
     "name": "stdin",
     "output_type": "stream",
     "text": [
      " 1100\n"
     ]
    },
    {
     "name": "stdout",
     "output_type": "stream",
     "text": [
      "A입니다.\n",
      "good\n"
     ]
    }
   ],
   "source": [
    "score = int(input())\n",
    "\n",
    "# 90점이상 A (95점이상이라면 good추가)\n",
    "# 80점이상 B\n",
    "# 70점이상 C\n",
    "# 나머지 F\n",
    "\n",
    "if score >= 90:\n",
    "    print('A입니다.')\n",
    "    if score >= 95:\n",
    "        print('good')\n",
    "elif score >= 80:\n",
    "    print('B입니다.')\n",
    "elif score >= 70:\n",
    "    print('C입니다.')\n",
    "else:\n",
    "    print('F입니다.')"
   ]
  },
  {
   "cell_type": "markdown",
   "id": "8662bf5f-7b17-44b7-b31b-82fd27257f05",
   "metadata": {},
   "source": [
    "## 조건표현식\n",
    "    true_value if <조건식> else false_value"
   ]
  },
  {
   "cell_type": "code",
   "execution_count": 4,
   "id": "589e854b-f583-4330-831a-b560a30b4ce5",
   "metadata": {},
   "outputs": [
    {
     "name": "stdout",
     "output_type": "stream",
     "text": [
      "True\n"
     ]
    }
   ],
   "source": [
    "print(\"True\") if 1 < 2 else print(\"False\")"
   ]
  },
  {
   "cell_type": "code",
   "execution_count": 5,
   "id": "749c2f36-53c9-4562-928f-5f0aedeb62ea",
   "metadata": {},
   "outputs": [
    {
     "name": "stdout",
     "output_type": "stream",
     "text": [
      "False\n"
     ]
    }
   ],
   "source": [
    "if 1 < 0:\n",
    "    print(\"True\")\n",
    "else:\n",
    "    print(\"False\")"
   ]
  },
  {
   "cell_type": "code",
   "execution_count": 6,
   "id": "0a1a6271-ea07-4e3b-9754-1d47b179e70f",
   "metadata": {},
   "outputs": [
    {
     "name": "stdout",
     "output_type": "stream",
     "text": [
      "5\n"
     ]
    }
   ],
   "source": [
    "num = 5\n",
    "\n",
    "if num >= 0:\n",
    "    value = num\n",
    "else:\n",
    "    value = 0 \n",
    "\n",
    "print(value)"
   ]
  },
  {
   "cell_type": "code",
   "execution_count": 7,
   "id": "59822d61-23a0-4c43-99eb-02ca2655a84d",
   "metadata": {},
   "outputs": [
    {
     "name": "stdout",
     "output_type": "stream",
     "text": [
      "0\n"
     ]
    }
   ],
   "source": [
    "num = -5\n",
    "value = num if num >= 0 else 0\n",
    "print(value)"
   ]
  },
  {
   "cell_type": "code",
   "execution_count": 8,
   "id": "1bdaee8a-fa88-4331-8448-abf58ac566ea",
   "metadata": {},
   "outputs": [
    {
     "name": "stdout",
     "output_type": "stream",
     "text": [
      "짝수\n"
     ]
    }
   ],
   "source": [
    "num = 10\n",
    "if num % 2 == 1:\n",
    "    result = '홀수'\n",
    "else:\n",
    "    result = '짝수'\n",
    "print(result)"
   ]
  },
  {
   "cell_type": "code",
   "execution_count": null,
   "id": "868e85cc-de85-4471-9dbb-66d161f3d389",
   "metadata": {},
   "outputs": [],
   "source": [
    "num = 5\n",
    "'홀수' if num % 2 == 1 else '짝수'\n",
    "print(result)"
   ]
  },
  {
   "cell_type": "markdown",
   "id": "8c447e08-8d56-478c-b8aa-a1d068c20b20",
   "metadata": {},
   "source": [
    "## 반복문\n",
    "\n",
    "### while 문\n",
    "```python\n",
    "while <조건식>:\n",
    "    실행할 코드"
   ]
  },
  {
   "cell_type": "code",
   "execution_count": 9,
   "id": "b1f2c003-8e5f-4615-9291-ed2637346fb8",
   "metadata": {},
   "outputs": [
    {
     "name": "stdout",
     "output_type": "stream",
     "text": [
      "0\n",
      "1\n",
      "2\n",
      "3\n",
      "4\n"
     ]
    }
   ],
   "source": [
    "a = 0\n",
    "\n",
    "while a < 5:\n",
    "    print(a)\n",
    "    a += 1 \n",
    "    # a = a + 1\n",
    "    "
   ]
  },
  {
   "cell_type": "code",
   "execution_count": 13,
   "id": "aa13b936-e3d1-4641-960f-6908629fb803",
   "metadata": {},
   "outputs": [
    {
     "name": "stdin",
     "output_type": "stream",
     "text": [
      "안녕이라고 해줘 :  안녕\n"
     ]
    }
   ],
   "source": [
    "greeting = ''\n",
    "\n",
    "while greeting != '안녕':\n",
    "    greeting = input('안녕이라고 해줘 : ')"
   ]
  },
  {
   "cell_type": "markdown",
   "id": "bbe1cef1-1121-44ed-9e94-d56b259bbe99",
   "metadata": {},
   "source": [
    "### for\n",
    "정해진 범위 내의 반복\n",
    "\n",
    "```python\n",
    "for variable in sequence:\n",
    "    실행할 코드\n",
    "```"
   ]
  },
  {
   "cell_type": "code",
   "execution_count": 14,
   "id": "f0ec0b01-aca3-4f82-8945-bf9f5158f743",
   "metadata": {},
   "outputs": [
    {
     "name": "stdout",
     "output_type": "stream",
     "text": [
      "1\n",
      "2\n",
      "3\n",
      "4\n",
      "5\n"
     ]
    }
   ],
   "source": [
    "numbers = [1, 2, 3, 4, 5]\n",
    "\n",
    "for number in numbers:\n",
    "    print(number)"
   ]
  },
  {
   "cell_type": "code",
   "execution_count": 15,
   "id": "25dff36a-61da-42e0-aea1-b910582e4431",
   "metadata": {},
   "outputs": [
    {
     "name": "stdin",
     "output_type": "stream",
     "text": [
      "단어를 입력해주세요 :  바나나\n"
     ]
    },
    {
     "name": "stdout",
     "output_type": "stream",
     "text": [
      "바\n",
      "나\n",
      "나\n"
     ]
    }
   ],
   "source": [
    "word = input('단어를 입력해주세요 : ')\n",
    "\n",
    "for char in word:\n",
    "    print(char)"
   ]
  },
  {
   "cell_type": "code",
   "execution_count": 16,
   "id": "7cd0e8af-161d-4eb1-b6c8-6393bbb1844a",
   "metadata": {},
   "outputs": [
    {
     "name": "stdout",
     "output_type": "stream",
     "text": [
      "0\n",
      "1\n",
      "2\n",
      "3\n",
      "4\n"
     ]
    }
   ],
   "source": [
    "for i in range(5):\n",
    "    print(i)"
   ]
  },
  {
   "cell_type": "code",
   "execution_count": 17,
   "id": "74c6cd4b-86bc-48cd-8331-5ef6dc33442f",
   "metadata": {},
   "outputs": [
    {
     "name": "stdout",
     "output_type": "stream",
     "text": [
      "1\n",
      "2\n",
      "3\n",
      "4\n",
      "5\n"
     ]
    }
   ],
   "source": [
    "for i in (1, 2, 3, 4, 5):\n",
    "    print(i)"
   ]
  },
  {
   "cell_type": "code",
   "execution_count": null,
   "id": "ebd9618b-3146-45d6-b43b-cbaca9864f23",
   "metadata": {},
   "outputs": [],
   "source": [
    "# 1. 1~30까지 숫자 중에서 홀수를 출력\n",
    "# 2. 1~30까지 숫자 중에서 홀수를 모아서 리스트로 출력\n",
    "\n",
    "# 1\n",
    "1\n",
    "3\n",
    "5\n",
    "7\n",
    "9\n",
    "...\n",
    "\n",
    "# 2 [1, 3, 5, 7, 9, 11, 13, 15, 17, 19, 21, 23, 25, 27, 29]"
   ]
  },
  {
   "cell_type": "code",
   "execution_count": 20,
   "id": "cfaeecdb-6e02-4210-9de1-2ba6a55bd1ae",
   "metadata": {},
   "outputs": [
    {
     "name": "stdout",
     "output_type": "stream",
     "text": [
      "[1, 3, 5, 7, 9, 11, 13, 15, 17, 19, 21, 23, 25, 27, 29]\n"
     ]
    }
   ],
   "source": [
    "numbers = range(31)\n",
    "result = []\n",
    "\n",
    "for number in numbers:\n",
    "    if number % 2 == 1:\n",
    "        # print(number)\n",
    "        result.append(number) #append()는 리스트에 새로운 요소를 추가하는 메소드\n",
    "\n",
    "print(result)"
   ]
  },
  {
   "cell_type": "code",
   "execution_count": 21,
   "id": "77cc08d5-51a3-432a-8b24-afa98016f70a",
   "metadata": {},
   "outputs": [
    {
     "name": "stdout",
     "output_type": "stream",
     "text": [
      "라면\n",
      "김밥\n",
      "떡볶이\n"
     ]
    }
   ],
   "source": [
    "menus = ['라면', '김밥', '떡볶이']\n",
    "\n",
    "for menu in menus:\n",
    "    print(menu)"
   ]
  },
  {
   "cell_type": "code",
   "execution_count": 22,
   "id": "39eb7cbb-71f6-4930-91e9-a150bee2b370",
   "metadata": {},
   "outputs": [
    {
     "name": "stdout",
     "output_type": "stream",
     "text": [
      "라면\n",
      "김밥\n",
      "떡볶이\n"
     ]
    }
   ],
   "source": [
    "for i in range( len(menus) ):\n",
    "    print(menus[i])"
   ]
  },
  {
   "cell_type": "code",
   "execution_count": 25,
   "id": "7996b2bd-9c3a-48c7-80c1-094dafb1ae95",
   "metadata": {},
   "outputs": [
    {
     "name": "stdout",
     "output_type": "stream",
     "text": [
      "(0, '라면')\n",
      "(1, '김밥')\n",
      "(2, '떡볶이')\n"
     ]
    }
   ],
   "source": [
    "for item in enumerate(menus): #enumerate()는 (index, 원소)인 튜플을 만드는 함수\n",
    "    print(item)"
   ]
  },
  {
   "cell_type": "code",
   "execution_count": 24,
   "id": "d680cd0e-a287-4465-b84f-1dffa39cd71b",
   "metadata": {},
   "outputs": [
    {
     "name": "stdout",
     "output_type": "stream",
     "text": [
      "0 라면\n",
      "1 김밥\n",
      "2 떡볶이\n"
     ]
    }
   ],
   "source": [
    "for index, menu in enumerate(menus):\n",
    "    print(index, menu)"
   ]
  },
  {
   "cell_type": "markdown",
   "id": "684bdd85-47d0-4865-91e8-289ae13e84eb",
   "metadata": {},
   "source": [
    "### dictionary 반복\n",
    "\n",
    "1. for key in dict:\n",
    "2. for key in dict.keys():\n",
    "3. for value in dict.values():\n",
    "4. for key, value in dict.items():"
   ]
  },
  {
   "cell_type": "code",
   "execution_count": 26,
   "id": "c5ecdd83-7112-4353-b8c6-b499b22bb230",
   "metadata": {},
   "outputs": [],
   "source": [
    "info = {\n",
    "    'name': 'Alisha',\n",
    "    'location': 'Incheon',\n",
    "    'phone': '010-1234-1234',\n",
    "}"
   ]
  },
  {
   "cell_type": "code",
   "execution_count": 29,
   "id": "78f039f1-4a27-4862-b427-94bdc9fcc071",
   "metadata": {},
   "outputs": [
    {
     "name": "stdout",
     "output_type": "stream",
     "text": [
      "name\n",
      "Alisha\n",
      "location\n",
      "Incheon\n",
      "phone\n",
      "010-1234-1234\n"
     ]
    }
   ],
   "source": [
    "for key in info:\n",
    "    print(key)\n",
    "    print(info[key])"
   ]
  },
  {
   "cell_type": "code",
   "execution_count": 30,
   "id": "66e17e47-a857-446e-9035-27ed97a36fce",
   "metadata": {},
   "outputs": [],
   "source": [
    "blood_type = {\n",
    "    'A': 5,\n",
    "    'B': 4,\n",
    "    'O': 2,\n",
    "    'AB': 3,\n",
    "}"
   ]
  },
  {
   "cell_type": "code",
   "execution_count": 31,
   "id": "6a45fc2f-328c-45ac-9444-3914c82c82cc",
   "metadata": {},
   "outputs": [
    {
     "name": "stdout",
     "output_type": "stream",
     "text": [
      "혈액형 목록은 다음과 같습니다.\n",
      "A\n",
      "B\n",
      "O\n",
      "AB\n"
     ]
    }
   ],
   "source": [
    "print('혈액형 목록은 다음과 같습니다.')\n",
    "for key in blood_type:\n",
    "    print(key)"
   ]
  },
  {
   "cell_type": "code",
   "execution_count": 32,
   "id": "1140b784-3b74-41b4-a941-b27cdbee258c",
   "metadata": {},
   "outputs": [
    {
     "name": "stdout",
     "output_type": "stream",
     "text": [
      "혈액형 목록은 다음과 같습니다.\n",
      "A\n",
      "B\n",
      "O\n",
      "AB\n"
     ]
    }
   ],
   "source": [
    "print('혈액형 목록은 다음과 같습니다.')\n",
    "for key in blood_type.keys():\n",
    "    print(key)"
   ]
  },
  {
   "cell_type": "code",
   "execution_count": 33,
   "id": "cd7bc2a2-3535-45db-8a07-c7dc8b41d85d",
   "metadata": {},
   "outputs": [
    {
     "name": "stdout",
     "output_type": "stream",
     "text": [
      "총인원은 14명입니다.\n"
     ]
    }
   ],
   "source": [
    "result = 0 #계산을 시작할 기준점\n",
    "\n",
    "for value in blood_type.values():\n",
    "    # print(value)\n",
    "    result = result + value #result+= value\n",
    "\n",
    "print(f'총인원은 {result}명입니다.')"
   ]
  },
  {
   "cell_type": "code",
   "execution_count": 34,
   "id": "aacbff67-b84b-4082-b587-964e6e24e321",
   "metadata": {},
   "outputs": [
    {
     "name": "stdout",
     "output_type": "stream",
     "text": [
      "('A', 5)\n",
      "('B', 4)\n",
      "('O', 2)\n",
      "('AB', 3)\n"
     ]
    }
   ],
   "source": [
    "for item in blood_type.items():\n",
    "    print(item)"
   ]
  },
  {
   "cell_type": "code",
   "execution_count": 35,
   "id": "9e01b159-5b4d-435c-b84f-14a0ed5cb35c",
   "metadata": {},
   "outputs": [
    {
     "name": "stdout",
     "output_type": "stream",
     "text": [
      "A형은 5명입니다.\n",
      "B형은 4명입니다.\n",
      "O형은 2명입니다.\n",
      "AB형은 3명입니다.\n"
     ]
    }
   ],
   "source": [
    "for key, value in blood_type.items():\n",
    "    print(f'{key}형은 {value}명입니다.') "
   ]
  },
  {
   "cell_type": "markdown",
   "id": "a5df22d0-c436-45df-9870-d5aaf65332a1",
   "metadata": {},
   "source": [
    "### break\n",
    "반복문을 종료시키는 키워드"
   ]
  },
  {
   "cell_type": "code",
   "execution_count": 36,
   "id": "af3896b8-4b6a-4508-8427-d323c88793af",
   "metadata": {},
   "outputs": [
    {
     "name": "stdout",
     "output_type": "stream",
     "text": [
      "0\n",
      "1\n",
      "2\n",
      "3\n",
      "4\n",
      "5\n",
      "6\n",
      "7\n",
      "8\n",
      "9\n",
      "10\n",
      "11\n",
      "10넘었어!!!\n"
     ]
    }
   ],
   "source": [
    "for i in range(100):\n",
    "    print(i)\n",
    "    if i > 10:\n",
    "        print('10넘었어!!!')\n",
    "        break"
   ]
  },
  {
   "cell_type": "code",
   "execution_count": 37,
   "id": "d423f79c-faf4-4c8f-a010-d074079cd36a",
   "metadata": {},
   "outputs": [
    {
     "name": "stdout",
     "output_type": "stream",
     "text": [
      "보리\n",
      "보리\n",
      "보리\n",
      "보리\n",
      "보리\n",
      "보리\n",
      "쌀\n",
      "잡았다!\n"
     ]
    }
   ],
   "source": [
    "rice = ['보리', '보리', '보리', '보리', '보리', '보리', '쌀', '보리']\n",
    "# 보리 보리 보리 쌀 잡았다!\n",
    "\n",
    "for i in rice:\n",
    "    print(i)\n",
    "    if i == '쌀':\n",
    "        print('잡았다!')\n",
    "        break"
   ]
  },
  {
   "cell_type": "markdown",
   "id": "9dd5de50-f7e7-4307-807f-f703e5c925d1",
   "metadata": {},
   "source": [
    "### continue\n",
    "\n",
    "continue 이후의 코드를 실행하지 않고 다음 반복을 실행"
   ]
  },
  {
   "cell_type": "code",
   "execution_count": 38,
   "id": "47412b45-c260-4171-9d0c-e6edd6b82f30",
   "metadata": {},
   "outputs": [
    {
     "name": "stdout",
     "output_type": "stream",
     "text": [
      "0\n",
      "2\n",
      "4\n",
      "6\n",
      "8\n"
     ]
    }
   ],
   "source": [
    "for i in range(10):\n",
    "    if i % 2:\n",
    "        continue\n",
    "\n",
    "    print(i)"
   ]
  },
  {
   "cell_type": "code",
   "execution_count": 39,
   "id": "271b47d3-d5d9-46e4-9451-eff518376d25",
   "metadata": {},
   "outputs": [
    {
     "name": "stdout",
     "output_type": "stream",
     "text": [
      "23살은 성인입니다.\n",
      "30살은 성인입니다.\n",
      "29살은 성인입니다.\n"
     ]
    }
   ],
   "source": [
    "age = [10, 23, 8, 30, 29, 15]\n",
    "\n",
    "for a in age:\n",
    "    if a < 20:\n",
    "        continue\n",
    "    print(f'{a}살은 성인입니다.')"
   ]
  },
  {
   "cell_type": "markdown",
   "id": "47d94038-3909-445c-a58f-3e8ca456c905",
   "metadata": {},
   "source": [
    "### else\n",
    "else문은 끝까지 반복이 진행이 된 후 실행합니다. (break를 만나지 않은 경우)"
   ]
  },
  {
   "cell_type": "code",
   "execution_count": 40,
   "id": "ab31a47c-e11c-4582-897b-2a87ac9cf500",
   "metadata": {},
   "outputs": [
    {
     "name": "stdout",
     "output_type": "stream",
     "text": [
      "0\n",
      "1\n",
      "2\n",
      "3\n",
      "4\n",
      "5\n",
      "6\n",
      "7\n",
      "8\n",
      "9\n",
      "10\n",
      "11\n"
     ]
    }
   ],
   "source": [
    "for i in range(50):\n",
    "    print(i)\n",
    "    if i > 10:\n",
    "        break\n",
    "else:\n",
    "    print('break 못만남')"
   ]
  },
  {
   "cell_type": "code",
   "execution_count": 41,
   "id": "aac95ffe-4506-401d-abd8-da9d5b4180ac",
   "metadata": {},
   "outputs": [
    {
     "name": "stdout",
     "output_type": "stream",
     "text": [
      "True\n",
      "False\n"
     ]
    }
   ],
   "source": [
    "numbers = [1, 2, 3, 4, 5]\n",
    "print(1 in numbers)\n",
    "print(99 in numbers)"
   ]
  },
  {
   "cell_type": "code",
   "execution_count": 42,
   "id": "7874b2cd-14f1-4135-b959-5221315b4320",
   "metadata": {},
   "outputs": [
    {
     "name": "stdout",
     "output_type": "stream",
     "text": [
      "True\n"
     ]
    }
   ],
   "source": [
    "numbers = [1, 2, 3, 4, 5]\n",
    "target = 1\n",
    "\n",
    "for number in numbers:\n",
    "    if number == target:\n",
    "        print('True')\n",
    "        break\n",
    "    else:\n",
    "        print('False')\n",
    "       "
   ]
  },
  {
   "cell_type": "markdown",
   "id": "b7709c97-2d06-4a6d-ae73-e4cbe1951dd2",
   "metadata": {},
   "source": [
    "### pass"
   ]
  },
  {
   "cell_type": "code",
   "execution_count": 43,
   "id": "71177aba-2656-4fe8-a909-f4ca481e6415",
   "metadata": {},
   "outputs": [],
   "source": [
    "if True:\n",
    "    pass"
   ]
  },
  {
   "cell_type": "code",
   "execution_count": 44,
   "id": "6accadd1-f7d7-4ff5-9354-5452226f93a3",
   "metadata": {},
   "outputs": [],
   "source": [
    "def login():\n",
    "    pass\n",
    "    \n",
    "def logout():\n",
    "    pass"
   ]
  },
  {
   "cell_type": "markdown",
   "id": "7cccd251-3686-4bfd-b375-d5acdce68f6d",
   "metadata": {},
   "source": [
    "### match\n",
    "\n",
    "```python\n",
    "match value:\n",
    "    case 조건:\n",
    "        실행할 코드\n",
    "    case 조건:\n",
    "        실행할 코드\n",
    "    case _:\n",
    "        실행할 코드\n",
    "```"
   ]
  },
  {
   "cell_type": "code",
   "execution_count": 45,
   "id": "72f4c891-8655-4ce1-8f98-377a6101fe38",
   "metadata": {},
   "outputs": [
    {
     "name": "stdout",
     "output_type": "stream",
     "text": [
      "something is wrong\n"
     ]
    }
   ],
   "source": [
    "status = 405\n",
    "\n",
    "match status:\n",
    "    case 400:\n",
    "        print('bad request')\n",
    "    case 404:\n",
    "        print('not found')\n",
    "    case _:\n",
    "        print('something is wrong')"
   ]
  },
  {
   "cell_type": "code",
   "execution_count": null,
   "id": "1981e57d-0b33-4a71-bb84-8635eecb86d2",
   "metadata": {},
   "outputs": [],
   "source": []
  }
 ],
 "metadata": {
  "kernelspec": {
   "display_name": "Python 3 (ipykernel)",
   "language": "python",
   "name": "python3"
  },
  "language_info": {
   "codemirror_mode": {
    "name": "ipython",
    "version": 3
   },
   "file_extension": ".py",
   "mimetype": "text/x-python",
   "name": "python",
   "nbconvert_exporter": "python",
   "pygments_lexer": "ipython3",
   "version": "3.11.5"
  }
 },
 "nbformat": 4,
 "nbformat_minor": 5
}
