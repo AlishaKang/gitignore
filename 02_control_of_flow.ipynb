{
 "cells": [
  {
   "cell_type": "markdown",
   "id": "e3f6d65d-c8ad-4adc-a5e6-404fac40f4e8",
   "metadata": {},
   "source": [
    "# 제어문"
   ]
  },
  {
   "cell_type": "markdown",
   "id": "312c5a8c-2bd9-4a4f-aef1-47a337ef417d",
   "metadata": {},
   "source": [
    "## 조건문(if문)\n",
    "\n",
    "```python\n",
    "if <조건식>:\n",
    "    if의 조건식이 참인 경우 실행하는 코드\n",
    "else\n",
    "    if의 조건식이 거짓인 경우 실행하는 코드\n",
    "```\n",
    "\n",
    "1. `if`문은 반드시 참/거짓을 판단 할 수 있는 `조건식`과 함께 사용한다.\n",
    "2. `조건식`이 참인 경우 : 이후의 문장을 실행한다.\n",
    "3. `조건식`이 거짓인 경우 : `else:`이후의 문장을 실행한다."
   ]
  },
  {
   "cell_type": "code",
   "execution_count": 3,
   "id": "b1db56f3-517e-4aae-9685-f652dbc887c5",
   "metadata": {},
   "outputs": [
    {
     "name": "stdin",
     "output_type": "stream",
     "text": [
      " 12/24\n"
     ]
    },
    {
     "name": "stdout",
     "output_type": "stream",
     "text": [
      "크리스마스가 아닙니다.\n"
     ]
    }
   ],
   "source": [
    "my_string = input()\n",
    "\n",
    "if my_string == '12/25':\n",
    "    print('크리스마스입니다.')\n",
    "else:\n",
    "    print('크리스마스가 아닙니다.')"
   ]
  },
  {
   "cell_type": "code",
   "execution_count": 7,
   "id": "552a0023-5a07-451e-8675-d26b697903b8",
   "metadata": {},
   "outputs": [
    {
     "name": "stdin",
     "output_type": "stream",
     "text": [
      "숫자를 입력해주세요 :  3\n"
     ]
    },
    {
     "name": "stdout",
     "output_type": "stream",
     "text": [
      "홀수입니다\n"
     ]
    }
   ],
   "source": [
    "num = input('숫자를 입력해주세요 : ')\n",
    "num = int(num)\n",
    "\n",
    "if num % 2 == 0:\n",
    "    print('짝수입니다')\n",
    "else:\n",
    "    print('홀수입니다')"
   ]
  },
  {
   "cell_type": "code",
   "execution_count": 8,
   "id": "0bab4737-4afe-4e95-96cd-bb213eff5b87",
   "metadata": {},
   "outputs": [
    {
     "name": "stdin",
     "output_type": "stream",
     "text": [
      "숫자를 입력해주세요 :  1\n"
     ]
    },
    {
     "name": "stdout",
     "output_type": "stream",
     "text": [
      "홀수입니다\n"
     ]
    }
   ],
   "source": [
    "num = input('숫자를 입력해주세요 : ')\n",
    "num = int(num)\n",
    "\n",
    "if num % 2 == 1:\n",
    "    print('홀수입니다')\n",
    "else:\n",
    "    print('짝수입니다')"
   ]
  },
  {
   "cell_type": "code",
   "execution_count": 11,
   "id": "e854c746-9a9d-4273-8559-16c103ba57a2",
   "metadata": {},
   "outputs": [
    {
     "name": "stdin",
     "output_type": "stream",
     "text": [
      "숫자를 입력해주세요 :  5\n"
     ]
    },
    {
     "name": "stdout",
     "output_type": "stream",
     "text": [
      "홀수입니다\n"
     ]
    }
   ],
   "source": [
    "# num을 2로 나눈 나머지는 0, 1 두 가지 경우가 있다.\n",
    "# if조건식과 0, 1은 자동형변환이 일어나 False, True로 변환된다.\n",
    "num = input('숫자를 입력해주세요 : ')\n",
    "num = int(num)\n",
    "\n",
    "if num % 2:\n",
    "    print('홀수입니다')\n",
    "else:\n",
    "    print('짝수입니다')"
   ]
  },
  {
   "cell_type": "markdown",
   "id": "d9f0a526-bb96-46ed-961a-17278ea39f73",
   "metadata": {},
   "source": [
    "### elif\n",
    "```python\n",
    "if <조건식>:\n",
    "    if 조건이 참인 경우 실행\n",
    "elif <조건식>:\n",
    "    elif 조건이 참인 경우 실행\n",
    "...\n",
    "else:\n",
    "    if 조건이 거짓인 경우 실행\n",
    "```"
   ]
  },
  {
   "cell_type": "code",
   "execution_count": 13,
   "id": "78722020-cbff-4283-b698-75e5b00165a7",
   "metadata": {},
   "outputs": [
    {
     "name": "stdin",
     "output_type": "stream",
     "text": [
      " 95\n"
     ]
    },
    {
     "name": "stdout",
     "output_type": "stream",
     "text": [
      "A입니다.\n",
      "good\n"
     ]
    }
   ],
   "source": [
    "score = int(input())\n",
    "\n",
    "# 90점이상 A (95점이상이라면 good추가)\n",
    "# 80점이상 B\n",
    "# 70점이상 C\n",
    "# 나머지 F\n",
    "\n",
    "if score >= 90:\n",
    "    print('A입니다.')\n",
    "    if score >= 95:\n",
    "        print('good')\n",
    "elif score >= 80:\n",
    "    print('B입니다.')\n",
    "elif score >= 70:\n",
    "    print('C입니다.')\n",
    "else:\n",
    "    print('F입니다.')"
   ]
  }
 ],
 "metadata": {
  "kernelspec": {
   "display_name": "Python 3 (ipykernel)",
   "language": "python",
   "name": "python3"
  },
  "language_info": {
   "codemirror_mode": {
    "name": "ipython",
    "version": 3
   },
   "file_extension": ".py",
   "mimetype": "text/x-python",
   "name": "python",
   "nbconvert_exporter": "python",
   "pygments_lexer": "ipython3",
   "version": "3.11.5"
  }
 },
 "nbformat": 4,
 "nbformat_minor": 5
}
