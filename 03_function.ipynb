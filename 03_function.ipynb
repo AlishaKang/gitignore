{
 "cells": [
  {
   "cell_type": "markdown",
   "id": "2087a534-57c7-4f96-8ff8-232d6a38c3ed",
   "metadata": {},
   "source": [
    "### 함수(function)"
   ]
  },
  {
   "cell_type": "code",
   "execution_count": null,
   "id": "4581adba-a1a9-468b-a963-b07a8d9fcdf3",
   "metadata": {},
   "outputs": [],
   "source": [
    "height = 10\n",
    "width = 20\n",
    "\n",
    "height2 = 50\n",
    "width2 = 100\n",
    "\n",
    "area = height * width\n",
    "perimeter = ( height + width ) * 2\n",
    "print(f'직사각형의 면적은 {area}, 둘레는 {perimeter}입니다.')\n",
    "\n",
    "area2 = height2 * width2"
   ]
  },
  {
   "cell_type": "markdown",
   "id": "70e36d2b-0562-4799-842a-9c39b5bd39e5",
   "metadata": {},
   "source": [
    "## 함수의 선언과 호출\n",
    "\n",
    "- 함수의 선언\n",
    "```\n",
    "def func_name(parameter1, parameter2):\n",
    "    code1\n",
    "    code2\n",
    "    ...\n",
    "    return value\n",
    "```\n",
    "- 함수의 호출(실행)\n",
    "    function_name(parameter1, parameter2)"
   ]
  },
  {
   "cell_type": "code",
   "execution_count": null,
   "id": "1ec936f8-8d2a-46d9-9b90-04a67b6d2464",
   "metadata": {},
   "outputs": [],
   "source": [
    "def rectangle(height, width):\n",
    "    area = height * width\n",
    "    perameter = ( height + width ) * 2\n",
    "    print(area, perameter)"
   ]
  },
  {
   "cell_type": "code",
   "execution_count": null,
   "id": "983aef2f-04b7-4ed3-9ce7-407b15a16f4c",
   "metadata": {},
   "outputs": [],
   "source": [
    "rectangle(100, 50)\n",
    "rectangle(10, 20)\n",
    "rectangle(30, 90)"
   ]
  },
  {
   "cell_type": "code",
   "execution_count": null,
   "id": "8f73a13d-7eed-4e1a-8aa3-a55eb55a377b",
   "metadata": {},
   "outputs": [],
   "source": [
    "dir(__builtins__)"
   ]
  },
  {
   "cell_type": "code",
   "execution_count": null,
   "id": "a7dff219-1bb5-4710-a759-4ae19bfe1a67",
   "metadata": {},
   "outputs": [],
   "source": [
    "max(1, 3, 5, 6)"
   ]
  },
  {
   "cell_type": "code",
   "execution_count": null,
   "id": "9bd84756-a8cd-4f5d-a248-816ba7548598",
   "metadata": {},
   "outputs": [],
   "source": [
    "# 두 개의 정수를 받아서 큰 수를 출력\n",
    "def my_max(num1, num2):\n",
    "    if num1 > num2:\n",
    "        print(num1)\n",
    "    elif num2 > num1:\n",
    "        print(num2)\n",
    "    else:\n",
    "        print('같습니다.')\n",
    "\n",
    "    # return None"
   ]
  },
  {
   "cell_type": "code",
   "execution_count": null,
   "id": "197cee53-9411-4f3d-a7a3-93b22f34dd35",
   "metadata": {},
   "outputs": [],
   "source": [
    "my_max(1, 2)\n",
    "a = my_max(5, 5)\n",
    "print(a)"
   ]
  },
  {
   "cell_type": "markdown",
   "id": "257f8327-3a1d-49e1-9e6c-6435252c9e22",
   "metadata": {},
   "source": [
    "## 함수의 return\n",
    "\n",
    "- 함수가 return을 만나면 해당 값을 반환하고 함수를 종료\n",
    "- 만약 return이 없다면 none을 자동으로 반환\n",
    "- return은 오직 하나의 객체만 반환합니다."
   ]
  },
  {
   "cell_type": "code",
   "execution_count": null,
   "id": "5a17b0dc-e0ab-4ae4-9ba8-91e977556ef2",
   "metadata": {},
   "outputs": [],
   "source": [
    "def my_max2(num1, num2):\n",
    "    # return 'hello'\n",
    "    \n",
    "    if num1 > num2:\n",
    "        return num1\n",
    "    elif num2 > num1:\n",
    "        return num2\n",
    "    else:\n",
    "        return num1"
   ]
  },
  {
   "cell_type": "code",
   "execution_count": null,
   "id": "2ac0184f-ed89-4c88-8152-b0501aca5abe",
   "metadata": {},
   "outputs": [],
   "source": [
    "a = my_max2(1, 2)\n",
    "print(a)"
   ]
  },
  {
   "cell_type": "code",
   "execution_count": null,
   "id": "95980009-1478-4915-bd6a-14082bad1afa",
   "metadata": {},
   "outputs": [],
   "source": [
    "def my_list_max(list1, list2):\n",
    "\n",
    "    if sum(list1) > sum(list2):\n",
    "        return list1\n",
    "    else:\n",
    "        return list2"
   ]
  },
  {
   "cell_type": "code",
   "execution_count": null,
   "id": "980ed25f-fbff-42cd-87c4-3bbb9c27298a",
   "metadata": {},
   "outputs": [],
   "source": [
    "my_list_max([1, 2, 3],[2, 3, 4])"
   ]
  },
  {
   "cell_type": "code",
   "execution_count": null,
   "id": "11cc8fed-8884-4a95-aa0f-221998082777",
   "metadata": {},
   "outputs": [],
   "source": [
    "def my_def(x):\n",
    "    return x * 2"
   ]
  },
  {
   "cell_type": "code",
   "execution_count": null,
   "id": "3d3e4cd4-ba24-4c61-a6ab-98bffb347e7e",
   "metadata": {},
   "outputs": [],
   "source": [
    "a = my_def(5)\n",
    "print(a)"
   ]
  },
  {
   "cell_type": "code",
   "execution_count": null,
   "id": "ffe36050-3d5f-49a1-bbb2-768d612f4565",
   "metadata": {},
   "outputs": [],
   "source": [
    "def my_def2(x):\n",
    "    print(x * 2)\n",
    "    #return None"
   ]
  },
  {
   "cell_type": "code",
   "execution_count": null,
   "id": "63bf64ff-3aff-4c5a-81c6-0b6a08122596",
   "metadata": {},
   "outputs": [],
   "source": [
    "a = my_def2(10)\n",
    "print(a)"
   ]
  },
  {
   "cell_type": "markdown",
   "id": "671ed9e1-e462-45cd-ae1f-13b12a524ae7",
   "metadata": {},
   "source": [
    "## 함수의 인수"
   ]
  },
  {
   "cell_type": "markdown",
   "id": "12d97e00-9f85-4dae-94cf-27aa31521feb",
   "metadata": {},
   "source": [
    "### 위치인수\n",
    "기본적으로 함수는 인수의 위치로 판단합니다."
   ]
  },
  {
   "cell_type": "code",
   "execution_count": null,
   "id": "2440fa55-04f7-4233-90a5-1b30afe135f7",
   "metadata": {},
   "outputs": [],
   "source": [
    "def cylinder(r, h):\n",
    "    return 3.14 * r**2 * h"
   ]
  },
  {
   "cell_type": "code",
   "execution_count": null,
   "id": "0720d786-37db-4842-a4b8-41bac08a2b89",
   "metadata": {},
   "outputs": [],
   "source": [
    "print(cylinder(10, 5))\n",
    "print(cylinder(5, 10))"
   ]
  },
  {
   "cell_type": "markdown",
   "id": "a8f0a6c4-01fc-49d5-8e07-126b6b2a7030",
   "metadata": {},
   "source": [
    "### 기본값\n",
    "\n",
    "```\n",
    "def func(p1=v1):\n",
    "    code...\n",
    "    return p1\n",
    "```"
   ]
  },
  {
   "cell_type": "code",
   "execution_count": null,
   "id": "fa6d5993-cb06-4d37-86c0-384443f84193",
   "metadata": {},
   "outputs": [],
   "source": [
    "def greeting(name='익명'): #기본값 지정\n",
    "    return f'{name}님 안녕하세요!!'"
   ]
  },
  {
   "cell_type": "code",
   "execution_count": null,
   "id": "ecdc6584-0d21-434c-a9be-b0030cb8c764",
   "metadata": {},
   "outputs": [],
   "source": [
    "greeting('알리샤')"
   ]
  },
  {
   "cell_type": "code",
   "execution_count": null,
   "id": "e2b1cadc-4d37-4e61-b8d1-132195ee96ab",
   "metadata": {},
   "outputs": [],
   "source": [
    "greeting()"
   ]
  },
  {
   "cell_type": "code",
   "execution_count": null,
   "id": "62be6fce-ca75-4bc4-9da6-b34c59aa4191",
   "metadata": {},
   "outputs": [],
   "source": [
    "print('hello', 'world', sep='!')"
   ]
  },
  {
   "cell_type": "code",
   "execution_count": null,
   "id": "3f74611d-def0-4680-bf34-32b445b1b802",
   "metadata": {},
   "outputs": [],
   "source": [
    "def greeting(name='익명', age):\n",
    "    return f'{name}님 은 {age}살입니다.'"
   ]
  },
  {
   "cell_type": "code",
   "execution_count": null,
   "id": "a38b7150-799e-460c-8764-8aed98dcbdae",
   "metadata": {},
   "outputs": [],
   "source": [
    "def greeting(age, name='익명'):\n",
    "    return f'{name}님 은 {age}살입니다.'"
   ]
  },
  {
   "cell_type": "code",
   "execution_count": null,
   "id": "a903141a-385a-43cd-849a-38f39de96a08",
   "metadata": {},
   "outputs": [],
   "source": [
    "print(greeting(50, '홍길동'))\n",
    "print(greeting(10))"
   ]
  },
  {
   "cell_type": "markdown",
   "id": "a5e5d827-1692-4b5c-8d20-4bddd88bb619",
   "metadata": {},
   "source": [
    "### 키워드 인자\n",
    "함수를 호출(실행)할 때 내가 원하는 위치에 직접적으로 특정인자를 전달 가능"
   ]
  },
  {
   "cell_type": "code",
   "execution_count": null,
   "id": "16a09d48-6596-4d1d-8834-49d133826664",
   "metadata": {},
   "outputs": [],
   "source": [
    "def greeting(age, name='익명'):\n",
    "    return f'{name}님 은 {age}살입니다.'"
   ]
  },
  {
   "cell_type": "code",
   "execution_count": null,
   "id": "b3874b34-f358-4b41-bff8-c24c3614acf3",
   "metadata": {},
   "outputs": [],
   "source": [
    "print(greeting(10))\n",
    "print(greeting(20, '홍길동'))\n",
    "print(greeting(name='홍길동', age=20))  #강제로 지정"
   ]
  },
  {
   "cell_type": "markdown",
   "id": "fc56fc21-8c62-4abf-aab4-4c28aeca25b1",
   "metadata": {},
   "source": [
    "### 가변 인자 리스트\n",
    "```\n",
    "def func(*parms):\n",
    "    code\n",
    "    ...\n",
    "```"
   ]
  },
  {
   "cell_type": "code",
   "execution_count": null,
   "id": "23725b30-7cb5-4098-b789-6fd6abdf55c0",
   "metadata": {},
   "outputs": [],
   "source": [
    "def my_print(*words):\n",
    "    print(words)\n",
    "    print(type(words))"
   ]
  },
  {
   "cell_type": "code",
   "execution_count": null,
   "id": "4093f248-3d7c-48a7-8a23-582416246fe3",
   "metadata": {},
   "outputs": [],
   "source": [
    "my_print('a', 'b', 'c', 'd')"
   ]
  },
  {
   "cell_type": "code",
   "execution_count": null,
   "id": "e820841c-a740-47c4-9122-c373e6384260",
   "metadata": {},
   "outputs": [],
   "source": [
    "print('a', 'b', 'c', 'd', '공간')\n",
    "print('a', 'b', 'c', 'd', sep='/')"
   ]
  },
  {
   "cell_type": "code",
   "execution_count": null,
   "id": "cf10e5d1-c43d-4028-a974-7bf9aa987699",
   "metadata": {},
   "outputs": [],
   "source": [
    "max(1, 2, 3, 4, 5, 6, 7)"
   ]
  },
  {
   "cell_type": "code",
   "execution_count": null,
   "id": "ba2297ff-e9cf-4cf2-90fb-b1f35f1d14c1",
   "metadata": {},
   "outputs": [],
   "source": [
    "max(1, 2, 3, 4, 5, 6, 7)\n",
    "max(-1, -2, -3, -4)"
   ]
  },
  {
   "cell_type": "code",
   "execution_count": null,
   "id": "f7b5a0cc-f2ed-41f9-b75e-a544d6ccd661",
   "metadata": {},
   "outputs": [],
   "source": [
    "# 여러 개의 숫자를 받아 그 중 가장 큰 수를 리턴\n",
    "def my_max(*numbers):\n",
    "    result = numbers[0]\n",
    "    \n",
    "    for numebr in numbers:\n",
    "        if result < number:\n",
    "            result = number\n",
    "\n",
    "    return result\n",
    "    "
   ]
  },
  {
   "cell_type": "code",
   "execution_count": null,
   "id": "381877a4-ba3e-4c8e-8aa7-4f3c4e3c9399",
   "metadata": {},
   "outputs": [],
   "source": [
    "print(my_max(1, 2, 3))\n",
    "print(my_max(-1, -2, -3))"
   ]
  },
  {
   "cell_type": "markdown",
   "id": "c50c3809-a92e-4c52-881b-d75441eef5bc",
   "metadata": {},
   "source": [
    "### 정의되지 않은 키워드 인지 처리하기\n",
    "```python\n",
    "def func(**kwargs):\n",
    "    code\n",
    "    ...\n",
    "```"
   ]
  },
  {
   "cell_type": "code",
   "execution_count": null,
   "id": "51005f3e-636a-4261-bc3d-cb014bbebf88",
   "metadata": {},
   "outputs": [],
   "source": [
    "info = {\n",
    "    'name': 'hong',\n",
    "    'age': 10,\n",
    "}\n",
    "print(info)"
   ]
  },
  {
   "cell_type": "code",
   "execution_count": null,
   "id": "87e7f43e-1ce1-4dad-98f7-051650563c4f",
   "metadata": {},
   "outputs": [],
   "source": [
    "info = dict(name='hong', age=20)\n",
    "print(info)"
   ]
  },
  {
   "cell_type": "code",
   "execution_count": null,
   "id": "d649c6ee-ae8b-4cad-83b3-7ddafceef627",
   "metadata": {},
   "outputs": [],
   "source": [
    "def fake_dict(**kwargs):\n",
    "    for key, value in kwargs.items():\n",
    "        print(f'{key}는 {value}입니다.')"
   ]
  },
  {
   "cell_type": "code",
   "execution_count": null,
   "id": "138ed275-aae6-4d61-9d1c-b5d3bd895bfd",
   "metadata": {},
   "outputs": [],
   "source": [
    "fake_dict(a=10, b=20)\n",
    "fake_dict(korean='안녕', english='hello')"
   ]
  },
  {
   "cell_type": "markdown",
   "id": "eabc2103-1ccf-4b70-be91-f5c407afabed",
   "metadata": {},
   "source": [
    "### dictionary를 인자로 넣기(unpacking)"
   ]
  },
  {
   "cell_type": "code",
   "execution_count": null,
   "id": "29fbfce1-c1d9-4353-a4d0-e0ff6e8f51ef",
   "metadata": {},
   "outputs": [],
   "source": [
    "def sign_up(id, pw, pw_confirmation):\n",
    "    if pw == pw_confirmation:\n",
    "        print(f'{id}님 회원가입이 완료되었습니다.')\n",
    "    else:\n",
    "        print('비밀번호가 일치하지 않습니다.')"
   ]
  },
  {
   "cell_type": "code",
   "execution_count": null,
   "id": "ccf3cf88-6156-48aa-9cb1-de86b6211828",
   "metadata": {},
   "outputs": [],
   "source": [
    "sign_up('change', '1234', '1234')\n",
    "sign_up('change', '1234', '12345')"
   ]
  },
  {
   "cell_type": "code",
   "execution_count": null,
   "id": "d533d12b-b42f-46a7-b24e-f1de9de25c78",
   "metadata": {},
   "outputs": [],
   "source": [
    "account = {\n",
    "    'id': 'change',\n",
    "    'pw': '1234',\n",
    "    'pw_confirmation': '1234'\n",
    "}\n",
    "sign_up(**account)"
   ]
  },
  {
   "cell_type": "markdown",
   "id": "21ecea31-9ab7-4d36-b0c4-2163b16eb05d",
   "metadata": {},
   "source": [
    "### lambda 표현식\n",
    "lambda parameter: expression"
   ]
  },
  {
   "cell_type": "code",
   "execution_count": null,
   "id": "392a7624-da58-4023-b87c-f34e051e26b1",
   "metadata": {},
   "outputs": [],
   "source": [
    "(lambda x, y: x + y)(1, 2)"
   ]
  },
  {
   "cell_type": "code",
   "execution_count": null,
   "id": "ac3a5f19-c7f5-4afa-8954-e2157228c3f6",
   "metadata": {},
   "outputs": [],
   "source": [
    "def my_sum(x, y):\n",
    "    return x + y\n",
    "\n",
    "my_sum(1, 2)"
   ]
  },
  {
   "cell_type": "markdown",
   "id": "9d3219b3-ce6e-40ba-a22b-17e22b636bf2",
   "metadata": {},
   "source": [
    "### 타입힌트"
   ]
  },
  {
   "cell_type": "code",
   "execution_count": null,
   "id": "aef5edda-1732-4de8-96a7-53e3a535c91b",
   "metadata": {},
   "outputs": [],
   "source": [
    "def my_sum(a: int, b: int) -> int:\n",
    "    return a + b"
   ]
  },
  {
   "cell_type": "code",
   "execution_count": null,
   "id": "97b67e6a-f2f8-4f05-ae6b-0571525f4218",
   "metadata": {},
   "outputs": [],
   "source": [
    "my_sum('1', 2) #타입힌트는 사람이 코드를 이해하기 위함, 변수 값 강제하는 성질 없음"
   ]
  },
  {
   "cell_type": "markdown",
   "id": "118914bd-3266-4f75-81b8-d29b49a64864",
   "metadata": {},
   "source": [
    "### 이름공간(scope)\n",
    "python에서 사용되는 이름들은 이름공간(namespace)에 저장되어 있습니다.\n",
    "\n",
    "- Local scope : 정의된 함수 내부\n",
    "- Enclosed scope : 상위 함수\n",
    "- Global scope : 함수 밖의 변수 혹은 import된 모듈\n",
    "- Built-in scope : python이 기본적으로 가지고 있는 함수 혹은 변수"
   ]
  },
  {
   "cell_type": "code",
   "execution_count": 10,
   "id": "324e396e-8909-4e86-b39a-3c2287a6445f",
   "metadata": {},
   "outputs": [],
   "source": [
    "str = '123'"
   ]
  },
  {
   "cell_type": "code",
   "execution_count": 2,
   "id": "712a7f4a-90da-48e6-b413-1cce2365aee6",
   "metadata": {},
   "outputs": [
    {
     "name": "stdout",
     "output_type": "stream",
     "text": [
      "123\n"
     ]
    }
   ],
   "source": [
    "print(str)"
   ]
  },
  {
   "cell_type": "code",
   "execution_count": 9,
   "id": "4d9d8ccd-299d-4235-885b-9fad33168402",
   "metadata": {},
   "outputs": [
    {
     "data": {
      "text/plain": [
       "'123'"
      ]
     },
     "execution_count": 9,
     "metadata": {},
     "output_type": "execute_result"
    }
   ],
   "source": [
    "str(123)"
   ]
  },
  {
   "cell_type": "code",
   "execution_count": 11,
   "id": "cae8fe02-27f7-4a39-885f-58d9c1ec5165",
   "metadata": {},
   "outputs": [],
   "source": [
    "del str #delete약자"
   ]
  },
  {
   "cell_type": "code",
   "execution_count": 12,
   "id": "a0cf0a0a-64a2-4c74-9008-afb68b9d87b4",
   "metadata": {},
   "outputs": [
    {
     "name": "stdout",
     "output_type": "stream",
     "text": [
      "5\n",
      "1\n"
     ]
    }
   ],
   "source": [
    "a = 1\n",
    "\n",
    "def local_scope(a):\n",
    "    print(a)\n",
    "\n",
    "local_scope(5)\n",
    "print(a)"
   ]
  },
  {
   "cell_type": "code",
   "execution_count": 13,
   "id": "1d9c6929-5974-4d53-a188-48315e0a9fd5",
   "metadata": {},
   "outputs": [
    {
     "name": "stdout",
     "output_type": "stream",
     "text": [
      "10\n"
     ]
    }
   ],
   "source": [
    "a = 10\n",
    "\n",
    "def global_scope():\n",
    "    global a\n",
    "    print(a)\n",
    "\n",
    "global_scope()"
   ]
  },
  {
   "cell_type": "markdown",
   "id": "b3651923-987b-494d-8024-8ac939c0c04c",
   "metadata": {},
   "source": [
    "### 재귀(recursive)\n",
    "재귀 함수는 함수 내부에서 자기 자신을 호출하는 함수를 의미한다."
   ]
  },
  {
   "cell_type": "code",
   "execution_count": 14,
   "id": "7b24cdc1-83e2-453a-8606-4c7dc668a8eb",
   "metadata": {},
   "outputs": [
    {
     "name": "stdout",
     "output_type": "stream",
     "text": [
      "120\n"
     ]
    }
   ],
   "source": [
    "# 팩토리얼(n! = 1 * 2 * 3 * ... * n)\n",
    "def fact(n):\n",
    "    result = 1\n",
    "\n",
    "    while n > 1:\n",
    "        result = result * n\n",
    "        # result *= n\n",
    "\n",
    "        n = n - 1\n",
    "        # n -= 1\n",
    "\n",
    "    return result\n",
    "\n",
    "print(fact(5))\n"
   ]
  },
  {
   "cell_type": "markdown",
   "id": "645da035-ec9f-4d23-80dc-3d6f6768822b",
   "metadata": {},
   "source": [
    "n! = 1 * 2 * 3 * ... * n-1 * n\n",
    "\n",
    "- 1! = 1\n",
    "- 2! = 1 * 2 \n",
    "- 3! = 1 * 2 * 3 = 2! * 3\n",
    "- 4! = 1 * 2 * 3 * 4 = 3! * 4"
   ]
  },
  {
   "cell_type": "code",
   "execution_count": null,
   "id": "7cd86342-90f0-48cf-ab0c-4e09855da4d7",
   "metadata": {},
   "outputs": [],
   "source": [
    "def factorial(n):\n",
    "    if n <= 1:\n",
    "        return 1\n",
    "    else:\n",
    "        return factorial(n-1) * n\n",
    "\n",
    "print(factorial(5))"
   ]
  },
  {
   "cell_type": "markdown",
   "id": "b0bec289-e45c-4b39-a75a-f20f8d9c4b8a",
   "metadata": {},
   "source": [
    "#### 피보나치 수열\n",
    "- F(0) = F(1) = 1\n",
    "- F(N) = F(N-1) + F(N-2)"
   ]
  },
  {
   "cell_type": "code",
   "execution_count": 16,
   "id": "6cd0d618-3c23-42be-89ce-8d9c6726418a",
   "metadata": {},
   "outputs": [
    {
     "name": "stdout",
     "output_type": "stream",
     "text": [
      "573147844013817084101\n"
     ]
    }
   ],
   "source": [
    "# 반복문\n",
    "def fib_loop(n):\n",
    "    result = [1, 1]\n",
    "    \n",
    "    for i in range(1, n):\n",
    "        end1 = result[-1]\n",
    "        end2 = result[-2]\n",
    "\n",
    "        fib_num = end1 + end2\n",
    "\n",
    "        result.append(fib_num)\n",
    "\n",
    "    return result[-1]\n",
    "\n",
    "print(fib_loop(100))\n"
   ]
  },
  {
   "cell_type": "code",
   "execution_count": 17,
   "id": "916e0001-af81-4a79-a387-aa2231abdaee",
   "metadata": {},
   "outputs": [
    {
     "ename": "RecursionError",
     "evalue": "maximum recursion depth exceeded",
     "output_type": "error",
     "traceback": [
      "\u001b[1;31m---------------------------------------------------------------------------\u001b[0m",
      "\u001b[1;31mRecursionError\u001b[0m                            Traceback (most recent call last)",
      "Cell \u001b[1;32mIn[17], line 8\u001b[0m\n\u001b[0;32m      5\u001b[0m     \u001b[38;5;28;01melse\u001b[39;00m:\n\u001b[0;32m      6\u001b[0m         \u001b[38;5;28;01mreturn\u001b[39;00m fib_rec(n\u001b[38;5;241m-\u001b[39m\u001b[38;5;241m1\u001b[39m) \u001b[38;5;241m+\u001b[39m fib_rec(n\u001b[38;5;241m-\u001b[39m\u001b[38;5;241m2\u001b[39m)\n\u001b[1;32m----> 8\u001b[0m \u001b[38;5;28mprint\u001b[39m(\u001b[43mfib_rec\u001b[49m\u001b[43m(\u001b[49m\u001b[38;5;241;43m10\u001b[39;49m\u001b[43m)\u001b[49m)\n",
      "Cell \u001b[1;32mIn[17], line 6\u001b[0m, in \u001b[0;36mfib_rec\u001b[1;34m(n)\u001b[0m\n\u001b[0;32m      4\u001b[0m     \u001b[38;5;28;01mreturn\u001b[39;00m \u001b[38;5;241m1\u001b[39m\n\u001b[0;32m      5\u001b[0m \u001b[38;5;28;01melse\u001b[39;00m:\n\u001b[1;32m----> 6\u001b[0m     \u001b[38;5;28;01mreturn\u001b[39;00m \u001b[43mfib_rec\u001b[49m\u001b[43m(\u001b[49m\u001b[43mn\u001b[49m\u001b[38;5;241;43m-\u001b[39;49m\u001b[38;5;241;43m1\u001b[39;49m\u001b[43m)\u001b[49m \u001b[38;5;241m+\u001b[39m fib_rec(n\u001b[38;5;241m-\u001b[39m\u001b[38;5;241m2\u001b[39m)\n",
      "Cell \u001b[1;32mIn[17], line 6\u001b[0m, in \u001b[0;36mfib_rec\u001b[1;34m(n)\u001b[0m\n\u001b[0;32m      4\u001b[0m     \u001b[38;5;28;01mreturn\u001b[39;00m \u001b[38;5;241m1\u001b[39m\n\u001b[0;32m      5\u001b[0m \u001b[38;5;28;01melse\u001b[39;00m:\n\u001b[1;32m----> 6\u001b[0m     \u001b[38;5;28;01mreturn\u001b[39;00m \u001b[43mfib_rec\u001b[49m\u001b[43m(\u001b[49m\u001b[43mn\u001b[49m\u001b[38;5;241;43m-\u001b[39;49m\u001b[38;5;241;43m1\u001b[39;49m\u001b[43m)\u001b[49m \u001b[38;5;241m+\u001b[39m fib_rec(n\u001b[38;5;241m-\u001b[39m\u001b[38;5;241m2\u001b[39m)\n",
      "    \u001b[1;31m[... skipping similar frames: fib_rec at line 6 (2971 times)]\u001b[0m\n",
      "Cell \u001b[1;32mIn[17], line 6\u001b[0m, in \u001b[0;36mfib_rec\u001b[1;34m(n)\u001b[0m\n\u001b[0;32m      4\u001b[0m     \u001b[38;5;28;01mreturn\u001b[39;00m \u001b[38;5;241m1\u001b[39m\n\u001b[0;32m      5\u001b[0m \u001b[38;5;28;01melse\u001b[39;00m:\n\u001b[1;32m----> 6\u001b[0m     \u001b[38;5;28;01mreturn\u001b[39;00m \u001b[43mfib_rec\u001b[49m\u001b[43m(\u001b[49m\u001b[43mn\u001b[49m\u001b[38;5;241;43m-\u001b[39;49m\u001b[38;5;241;43m1\u001b[39;49m\u001b[43m)\u001b[49m \u001b[38;5;241m+\u001b[39m fib_rec(n\u001b[38;5;241m-\u001b[39m\u001b[38;5;241m2\u001b[39m)\n",
      "\u001b[1;31mRecursionError\u001b[0m: maximum recursion depth exceeded"
     ]
    }
   ],
   "source": [
    "# 재귀\n",
    "def fib_rec(n):\n",
    "    if n == 1:\n",
    "        return 1\n",
    "    else:\n",
    "        return fib_rec(n-1) + fib_rec(n-2)\n",
    "\n",
    "print(fib_rec(10))"
   ]
  }
 ],
 "metadata": {
  "kernelspec": {
   "display_name": "Python 3 (ipykernel)",
   "language": "python",
   "name": "python3"
  },
  "language_info": {
   "codemirror_mode": {
    "name": "ipython",
    "version": 3
   },
   "file_extension": ".py",
   "mimetype": "text/x-python",
   "name": "python",
   "nbconvert_exporter": "python",
   "pygments_lexer": "ipython3",
   "version": "3.11.5"
  }
 },
 "nbformat": 4,
 "nbformat_minor": 5
}
